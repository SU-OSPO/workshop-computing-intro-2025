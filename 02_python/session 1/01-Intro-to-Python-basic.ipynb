{
 "cells": [
  {
   "cell_type": "markdown",
   "id": "1c93856b",
   "metadata": {},
   "source": [
    "\n",
    "# 1. What is Python?\n",
    "\n",
    "**Python** is a high-level, general-purpose programming language known for its readability and simplicity. It was created by **Guido van Rossum** and first released in **1991**.\n",
    "\n",
    "## Key facts about Python:\n",
    "- **High-level**: You don’t need to manage memory or worry about hardware-level operations.\n",
    "- **Interpreted**: Python runs line-by-line, which makes it easier to test and debug.\n",
    "- **Dynamically typed**: You don’t need to declare variable types—they’re inferred at runtime.\n",
    "- **Multi-paradigm**: You can write code using procedural, object-oriented, or functional programming styles.\n",
    "\n",
    "> Python was named after the British comedy show *“Monty Python’s Flying Circus,”* not the snake!\n"
   ]
  },
  {
   "cell_type": "markdown",
   "id": "ac5976c1",
   "metadata": {},
   "source": [
    "\n",
    "## Why Should You Care?\n",
    "\n",
    "Python is designed to be:\n",
    "- **Simple to read and write**: The syntax is clean and English-like.\n",
    "- **Beginner-friendly**: Python has a gentle learning curve.\n",
    "- **Powerful and versatile**: It’s used by professionals in many fields.\n",
    "\n",
    "Here’s what Python code looks like compared to another language:\n",
    "\n",
    "### Example: Hello, world!\n",
    "**Python:**\n",
    "```python\n",
    "print(\"Hello, world!\")\n"
   ]
  },
  {
   "cell_type": "markdown",
   "id": "178daf79",
   "metadata": {},
   "source": [
    "\n",
    "**Java:**\n",
    "```java\n",
    "public class HelloWorld {\n",
    "    public static void main(String[] args) {\n",
    "        System.out.println(\"Hello, world!\");\n",
    "    }\n",
    "}\n"
   ]
  },
  {
   "cell_type": "markdown",
   "id": "19a3dc3c",
   "metadata": {},
   "source": [
    "\n",
    "# 2. Why is Python So Popular?\n",
    "\n",
    "Python has rapidly become one of the most widely used programming languages in the world.\n",
    "Here are some of the key reasons why developers love using Python:"
   ]
  },
  {
   "cell_type": "markdown",
   "id": "07772841",
   "metadata": {},
   "source": [
    "## Key Reasons for Python’s Popularity\n",
    "\n",
    "- **Readable and clean syntax** – Python code looks like English.\n",
    "- **Beginner-friendly** – great for learning programming fundamentals.\n",
    "- **Large ecosystem of libraries** – e.g., NumPy, Pandas, Flask, TensorFlow.\n",
    "- **Cross-platform compatibility** – runs on Windows, macOS, Linux.\n",
    "- **Used in many domains** – data science, AI, web dev, automation, finance, etc.\n",
    "- **Strong community support** – extensive documentation and tutorials online."
   ]
  },
  {
   "cell_type": "markdown",
   "id": "6ca3d57e",
   "metadata": {},
   "source": [
    "\n",
    "## Python vs Other Languages (Comparison Table)\n",
    "\n",
    "| Feature           | Python       | Java        | C++         |\n",
    "|------------------|--------------|-------------|-------------|\n",
    "| Syntax simplicity| ✅ Easy      | ❌ Verbose  | ❌ Complex  |\n",
    "| Speed            | ❌ Slower    | ✅ Fast     | ✅ Very Fast|\n",
    "| Learning curve   | ✅ Gentle    | ⚠️ Moderate| ⚠️ Steep   |\n",
    "| Use cases        | 🌐 Broad     | 💼 Enterprise| 🕹️ Systems  |\n"
   ]
  },
  {
   "cell_type": "markdown",
   "id": "47cf39ad",
   "metadata": {},
   "source": [
    "## Developer Productivity Over Execution Speed\n",
    "Python prioritizes **developer time** over **machine execution speed**.\n",
    "This makes it ideal for rapid prototyping, teaching, and solving real-world problems efficiently."
   ]
  },
  {
   "cell_type": "markdown",
   "id": "018d688f",
   "metadata": {},
   "source": [
    "# 3. Variables and Types in Python\n",
    "\n",
    "In Python, variables are used to store data, and types describe the kind of data a variable holds.\n",
    "Python is dynamically typed, so you don't need to declare a variable's type explicitly."
   ]
  },
  {
   "cell_type": "markdown",
   "id": "d3765580",
   "metadata": {},
   "source": [
    "\n",
    "## What is a Variable?\n",
    "\n",
    "A **variable** is like a container for storing a value.\n",
    "You create one using the `=` operator."
   ]
  },
  {
   "cell_type": "code",
   "execution_count": 7,
   "id": "ce34250a",
   "metadata": {},
   "outputs": [
    {
     "name": "stdout",
     "output_type": "stream",
     "text": [
      "Alice\n",
      "25\n",
      "1.68\n",
      "True\n"
     ]
    }
   ],
   "source": [
    "name = \"Alice\"\n",
    "age = 25\n",
    "height = 1.68\n",
    "is_student = True\n",
    "\n",
    "print(name)\n",
    "print(age)\n",
    "print(height)\n",
    "print(is_student)"
   ]
  },
  {
   "cell_type": "markdown",
   "id": "33474371",
   "metadata": {},
   "source": [
    "\n",
    "## What are Data Types?\n",
    "\n",
    "Python automatically assigns a type based on the value.\n",
    "You can use the `type()` function to check a variable's type."
   ]
  },
  {
   "cell_type": "code",
   "execution_count": 8,
   "id": "f09fea5e",
   "metadata": {},
   "outputs": [
    {
     "name": "stdout",
     "output_type": "stream",
     "text": [
      "<class 'str'>\n",
      "<class 'int'>\n",
      "<class 'float'>\n",
      "<class 'bool'>\n"
     ]
    }
   ],
   "source": [
    "print(type(name))      # <class 'str'>\n",
    "print(type(age))       # <class 'int'>\n",
    "print(type(height))    # <class 'float'>\n",
    "print(type(is_student))# <class 'bool'>"
   ]
  },
  {
   "cell_type": "markdown",
   "id": "109ecbca",
   "metadata": {},
   "source": [
    "\n",
    "## Basic Types \n",
    "\n",
    "### int – Integer\n",
    "Used for whole numbers (positive or negative), without decimals.\n",
    "```python\n",
    "a = 42  # age, count, ID number\n",
    "```\n",
    "\n",
    "### float – Floating Point Number\n",
    "Used for decimal or fractional values.\n",
    "```python\n",
    "pi = 3.14159  # measurements, scores, percentages\n",
    "```\n",
    "\n",
    "### str – String\n",
    "Text enclosed in quotes. Can include letters, numbers, or symbols.\n",
    "```python\n",
    "name = \"Alice\"\n",
    "```\n",
    "\n",
    "### bool – Boolean\n",
    "Used for logic-based values: `True` or `False`.\n",
    "```python\n",
    "is_raining = False\n",
    "```\n",
    "\n",
    "## Container Types\n",
    "\n",
    "### list – List\n",
    "An ordered collection of items. Lists can contain values of different types.\n",
    "```python\n",
    "# Same-type list\n",
    "colors = [\"red\", \"green\", \"blue\"]\n",
    "\n",
    "# Mixed-type list\n",
    "person = [\"Alice\", 30, 5.6, True]\n",
    "```\n",
    "\n",
    "### dict – Dictionary\n",
    "Stores key-value pairs, like a mini-database or object.\n",
    "```python\n",
    "student = {\"name\": \"Alice\", \"grade\": 90}\n",
    "```\n"
   ]
  },
  {
   "cell_type": "markdown",
   "id": "42d73ed6",
   "metadata": {},
   "source": [
    "## Dynamic Typing\n",
    "\n",
    "Variables in Python can be reassigned to values of different types."
   ]
  },
  {
   "cell_type": "code",
   "execution_count": 23,
   "id": "f0a77246",
   "metadata": {},
   "outputs": [
    {
     "name": "stdout",
     "output_type": "stream",
     "text": [
      "<class 'int'>\n",
      "<class 'str'>\n"
     ]
    }
   ],
   "source": [
    "x = 10         # x is an int\n",
    "print(type(x))\n",
    "\n",
    "x = \"ten\"      # now x is a str\n",
    "print(type(x))"
   ]
  },
  {
   "cell_type": "markdown",
   "id": "cc45f574",
   "metadata": {},
   "source": [
    "## ✅ Summary\n",
    "- Variables store data\n",
    "- Python figures out the type for you\n",
    "- Use `type()` to inspect variables\n",
    "- You can reassign variables to new types\n",
    "- Lists can contain mixed types, which is powerful but should be used carefully"
   ]
  },
  {
   "cell_type": "markdown",
   "id": "c8d5de82",
   "metadata": {},
   "source": [
    "### List\n",
    "\n",
    "A list is an **ordered, mutable collection** of items.  \n",
    "It can hold values of the same type or mix different types.\n",
    "\n",
    "```python\n",
    "# Same-type list\n",
    "colors = [\"red\", \"green\", \"blue\"]\n",
    "\n",
    "# Mixed-type list\n",
    "person = [\"Alice\", 30, 5.6, True]\n"
   ]
  },
  {
   "cell_type": "code",
   "execution_count": 20,
   "id": "1885b326",
   "metadata": {},
   "outputs": [
    {
     "name": "stdout",
     "output_type": "stream",
     "text": [
      "Alice\n",
      "30\n"
     ]
    }
   ],
   "source": [
    "person = [\"Alice\", 30, 5.6, True]\n",
    "print(person[0])  # \"Alice\"\n",
    "print(person[1])  # 30"
   ]
  },
  {
   "cell_type": "markdown",
   "id": "96f81b82",
   "metadata": {},
   "source": [
    "You can also **modify** lists by **appending, removing,** or **updating** elements:"
   ]
  },
  {
   "cell_type": "code",
   "execution_count": 21,
   "id": "67c2a69a",
   "metadata": {},
   "outputs": [
    {
     "name": "stdout",
     "output_type": "stream",
     "text": [
      "['Alice', 31, 5.6, True, 'New York']\n"
     ]
    }
   ],
   "source": [
    "person.append(\"New York\")\n",
    "person[1] = 31\n",
    "print(person)"
   ]
  },
  {
   "cell_type": "markdown",
   "id": "c202eb66",
   "metadata": {},
   "source": [
    "\n",
    "### Using Dictionaries to Represent Single and Multiple Items\n",
    "\n",
    "In Python, a **dictionary** represents one item (e.g., one student).\n",
    "To store multiple such items, we use a **list of dictionaries**."
   ]
  },
  {
   "cell_type": "markdown",
   "id": "54c93145",
   "metadata": {},
   "source": [
    "**One Dictionary for One Student**"
   ]
  },
  {
   "cell_type": "code",
   "execution_count": 9,
   "id": "bac58e65",
   "metadata": {},
   "outputs": [
    {
     "name": "stdout",
     "output_type": "stream",
     "text": [
      "Alice\n",
      "Computer Science\n"
     ]
    }
   ],
   "source": [
    "student = {\n",
    "    \"name\": \"Alice\",\n",
    "    \"age\": 21,\n",
    "    \"major\": \"Computer Science\"\n",
    "}\n",
    "print(student[\"name\"])\n",
    "print(student[\"major\"])"
   ]
  },
  {
   "cell_type": "markdown",
   "id": "7a8d51dd",
   "metadata": {},
   "source": [
    "**List of Dictionaries for Multiple Students**"
   ]
  },
  {
   "cell_type": "code",
   "execution_count": 10,
   "id": "d3b51b2a",
   "metadata": {},
   "outputs": [
    {
     "name": "stdout",
     "output_type": "stream",
     "text": [
      "Math\n"
     ]
    }
   ],
   "source": [
    "students = [\n",
    "    {\"name\": \"Alice\", \"age\": 21, \"major\": \"CS\"},\n",
    "    {\"name\": \"Bob\", \"age\": 22, \"major\": \"Math\"},\n",
    "    {\"name\": \"Cara\", \"age\": 20, \"major\": \"Biology\"}\n",
    "]\n",
    "\n",
    "# Accessing second student's major\n",
    "print(students[1][\"major\"])"
   ]
  },
  {
   "cell_type": "markdown",
   "id": "d2e259b0",
   "metadata": {},
   "source": [
    "**Looping Through a List of Dictionaries**"
   ]
  },
  {
   "cell_type": "code",
   "execution_count": 11,
   "id": "d6c4b564",
   "metadata": {},
   "outputs": [
    {
     "name": "stdout",
     "output_type": "stream",
     "text": [
      "Alice is studying CS\n",
      "Bob is studying Math\n",
      "Cara is studying Biology\n"
     ]
    }
   ],
   "source": [
    "for student in students:\n",
    "    print(student[\"name\"], \"is studying\", student[\"major\"])"
   ]
  },
  {
   "cell_type": "markdown",
   "id": "5cedbeb0",
   "metadata": {},
   "source": [
    "### Exercise\n",
    "- Add a new student to the `students` list.\n",
    "- Print each student's name and age.\n",
    "- Try changing a student's major."
   ]
  },
  {
   "cell_type": "code",
   "execution_count": 22,
   "id": "1d9e21c8",
   "metadata": {},
   "outputs": [
    {
     "name": "stdout",
     "output_type": "stream",
     "text": [
      "Alice is 21 years old.\n",
      "Bob is 22 years old.\n",
      "Cara is 20 years old.\n",
      "David is 23 years old.\n"
     ]
    }
   ],
   "source": [
    "# Original list of students\n",
    "students = [\n",
    "    {\"name\": \"Alice\", \"age\": 21, \"major\": \"CS\"},\n",
    "    {\"name\": \"Bob\", \"age\": 22, \"major\": \"Math\"},\n",
    "    {\"name\": \"Cara\", \"age\": 20, \"major\": \"Biology\"}\n",
    "]\n",
    "\n",
    "# Add a new student\n",
    "new_student = {\"name\": \"David\", \"age\": 23, \"major\": \"Engineering\"}\n",
    "students.append(new_student)\n",
    "\n",
    "# Print each student's name and age\n",
    "for student in students:\n",
    "    print(student[\"name\"], \"is\", student[\"age\"], \"years old.\")\n"
   ]
  },
  {
   "cell_type": "code",
   "execution_count": null,
   "id": "676fe21c",
   "metadata": {},
   "outputs": [],
   "source": []
  }
 ],
 "metadata": {
  "kernelspec": {
   "display_name": "Python 3 (ipykernel)",
   "language": "python",
   "name": "python3"
  },
  "language_info": {
   "codemirror_mode": {
    "name": "ipython",
    "version": 3
   },
   "file_extension": ".py",
   "mimetype": "text/x-python",
   "name": "python",
   "nbconvert_exporter": "python",
   "pygments_lexer": "ipython3",
   "version": "3.11.4"
  }
 },
 "nbformat": 4,
 "nbformat_minor": 5
}
