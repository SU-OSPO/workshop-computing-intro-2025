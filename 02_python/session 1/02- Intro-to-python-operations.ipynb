{
 "cells": [
  {
   "cell_type": "markdown",
   "id": "07d2b2b8",
   "metadata": {},
   "source": [
    "# Operations in Python\n",
    "\n",
    "This section introduces arithmetic operations, string manipulations, and type conversions in Python."
   ]
  },
  {
   "cell_type": "markdown",
   "id": "40c04e6f",
   "metadata": {},
   "source": [
    "## Arithmetic Operations\n",
    "\n",
    "| Operation        | Symbol | Example     | Result   |\n",
    "|------------------|--------|-------------|----------|\n",
    "| Addition         | `+`    | `5 + 3`     | `8`      |\n",
    "| Subtraction      | `-`    | `5 - 2`     | `3`      |\n",
    "| Multiplication   | `*`    | `4 * 2`     | `8`      |\n",
    "| Division         | `/`    | `10 / 3`    | `3.333`  |\n",
    "| Floor Division   | `//`   | `10 // 3`   | `3`      |\n",
    "| Modulus          | `%`    | `10 % 3`    | `1`      |\n",
    "| Exponentiation   | `**`   | `2 ** 3`    | `8`      |"
   ]
  },
  {
   "cell_type": "code",
   "execution_count": 1,
   "id": "eed020bd",
   "metadata": {},
   "outputs": [
    {
     "name": "stdout",
     "output_type": "stream",
     "text": [
      "Addition: 13\n",
      "Subtraction: 7\n",
      "Multiplication: 30\n",
      "Division: 3.3333333333333335\n",
      "Floor Division: 3\n",
      "Modulus: 1\n",
      "Exponentiation: 1000\n"
     ]
    }
   ],
   "source": [
    "a = 10\n",
    "b = 3\n",
    "\n",
    "print(\"Addition:\", a + b)\n",
    "print(\"Subtraction:\", a - b)\n",
    "print(\"Multiplication:\", a * b)\n",
    "print(\"Division:\", a / b)\n",
    "print(\"Floor Division:\", a // b)\n",
    "print(\"Modulus:\", a % b)\n",
    "print(\"Exponentiation:\", a ** b)"
   ]
  },
  {
   "cell_type": "markdown",
   "id": "f30937af",
   "metadata": {},
   "source": [
    "### Exercise: BMI Calculator\n",
    "\n",
    "Given a weight in kilograms and a height in meters, calculate Body Mass Index (BMI):\n",
    "\n",
    "Formula: `BMI = weight / (height ** 2)`"
   ]
  },
  {
   "cell_type": "code",
   "execution_count": 2,
   "id": "b2bed47f",
   "metadata": {},
   "outputs": [
    {
     "name": "stdout",
     "output_type": "stream",
     "text": [
      "Your BMI is: 22.857142857142858\n"
     ]
    }
   ],
   "source": [
    "weight = 70\n",
    "height = 1.75\n",
    "bmi = weight / (height ** 2)\n",
    "print(f\"Your BMI is: {bmi}\")"
   ]
  },
  {
   "cell_type": "markdown",
   "id": "729355eb",
   "metadata": {},
   "source": [
    "## String Operations\n",
    "\n",
    "Use `+` to concatenate strings, and `*` to repeat them."
   ]
  },
  {
   "cell_type": "code",
   "execution_count": 3,
   "id": "1724800e",
   "metadata": {},
   "outputs": [
    {
     "name": "stdout",
     "output_type": "stream",
     "text": [
      "Alice Smith\n",
      "Hi! Hi! Hi! \n"
     ]
    }
   ],
   "source": [
    "first_name = \"Alice\"\n",
    "last_name = \"Smith\"\n",
    "\n",
    "full_name = first_name + \" \" + last_name\n",
    "print(full_name)\n",
    "\n",
    "print(\"Hi! \" * 3)"
   ]
  },
  {
   "cell_type": "markdown",
   "id": "d2081e2f",
   "metadata": {},
   "source": [
    "## Type Conversion\n",
    "\n",
    "Convert between types using `int()`, `float()`, and `str()`."
   ]
  },
  {
   "cell_type": "code",
   "execution_count": 4,
   "id": "40ead4a9",
   "metadata": {},
   "outputs": [
    {
     "name": "stdout",
     "output_type": "stream",
     "text": [
      "I am 25 years old.\n",
      "My height is 1.75 meters.\n"
     ]
    }
   ],
   "source": [
    "age = 25\n",
    "height = 1.75\n",
    "\n",
    "print(\"I am \" + str(age) + \" years old.\")\n",
    "print(f\"My height is {height} meters.\")"
   ]
  },
  {
   "cell_type": "markdown",
   "id": "aa6e0cba",
   "metadata": {},
   "source": [
    "## Summary\n",
    "- Arithmetic operations: `+`, `-`, `*`, `/`, `//`, `%`, `**`\n",
    "- String operations: concatenation and repetition\n",
    "- Type conversion: `int()`, `float()`, `str()`\n",
    "- Use f-strings for clean and readable output"
   ]
  },
  {
   "cell_type": "code",
   "execution_count": null,
   "id": "96208dfe",
   "metadata": {},
   "outputs": [],
   "source": []
  }
 ],
 "metadata": {
  "kernelspec": {
   "display_name": "Python 3 (ipykernel)",
   "language": "python",
   "name": "python3"
  },
  "language_info": {
   "codemirror_mode": {
    "name": "ipython",
    "version": 3
   },
   "file_extension": ".py",
   "mimetype": "text/x-python",
   "name": "python",
   "nbconvert_exporter": "python",
   "pygments_lexer": "ipython3",
   "version": "3.11.4"
  }
 },
 "nbformat": 4,
 "nbformat_minor": 5
}
