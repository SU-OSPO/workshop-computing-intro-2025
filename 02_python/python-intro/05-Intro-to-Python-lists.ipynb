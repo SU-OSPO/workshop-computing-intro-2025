{
 "cells": [
  {
   "cell_type": "markdown",
   "id": "0881d368",
   "metadata": {},
   "source": [
    "## Lists\n",
    "A **list** is an ordered, mutable collection that can store multiple items. Lists are one of the most useful and flexible data types in Python."
   ]
  },
  {
   "cell_type": "markdown",
   "id": "0b2d6c17",
   "metadata": {},
   "source": [
    "### Why Lists?\n",
    "- Store multiple related items together\n",
    "- Grow and shrink dynamically\n",
    "- Support powerful operations like slicing, filtering, and transformations"
   ]
  },
  {
   "cell_type": "markdown",
   "id": "731389de",
   "metadata": {},
   "source": [
    "###  Creating Lists"
   ]
  },
  {
   "cell_type": "code",
   "execution_count": 1,
   "id": "f7a87981",
   "metadata": {},
   "outputs": [
    {
     "name": "stdout",
     "output_type": "stream",
     "text": [
      "[]\n",
      "['apple', 'banana', 'cherry']\n",
      "['Alice', 30, 5.7, True]\n",
      "[[1, 2], [3, 4], [5, 6]]\n"
     ]
    }
   ],
   "source": [
    "# Empty list\n",
    "empty_list = []\n",
    "print(empty_list)\n",
    "\n",
    "# With initial items\n",
    "fruits = [\"apple\", \"banana\", \"cherry\"]\n",
    "print(fruits)\n",
    "\n",
    "# Mixed types\n",
    "mixed = [\"Alice\", 30, 5.7, True]\n",
    "print(mixed)\n",
    "\n",
    "# Nested list (list of lists)\n",
    "matrix = [[1, 2], [3, 4], [5, 6]]\n",
    "print(matrix)"
   ]
  },
  {
   "cell_type": "markdown",
   "id": "d8e11bf4",
   "metadata": {},
   "source": [
    "**Exercise:** Create a list of three cities and print it."
   ]
  },
  {
   "cell_type": "code",
   "execution_count": 2,
   "id": "f2590a17",
   "metadata": {},
   "outputs": [
    {
     "name": "stdout",
     "output_type": "stream",
     "text": [
      "['Tokyo', 'Paris', 'New York']\n"
     ]
    }
   ],
   "source": [
    "cities = [\"Tokyo\", \"Paris\", \"New York\"]\n",
    "print(cities)"
   ]
  },
  {
   "cell_type": "markdown",
   "id": "535920cc",
   "metadata": {},
   "source": [
    "###  Types of Lists"
   ]
  },
  {
   "cell_type": "markdown",
   "id": "6fc84fb8",
   "metadata": {},
   "source": [
    "**Homogeneous Lists (same type)**\n",
    "```python\n",
    "numbers = [1, 2, 3, 4]\n",
    "names = [\"Alice\", \"Bob\", \"Cara\"]\n",
    "```\n",
    "\n",
    "**Heterogeneous Lists (mixed types)**\n",
    "```python\n",
    "mixed = [\"Alice\", 30, 5.7, True]\n",
    "```\n",
    "\n",
    "**Nested Lists (lists inside lists)**\n",
    "```python\n",
    "matrix = [[1, 2], [3, 4], [5, 6]]\n",
    "```\n"
   ]
  },
  {
   "cell_type": "markdown",
   "id": "d63f2dcd",
   "metadata": {},
   "source": [
    "**Exercise:** Create a nested list representing a 2×3 grid, then access the item in row 2, column 3."
   ]
  },
  {
   "cell_type": "code",
   "execution_count": 3,
   "id": "a8dbbdf0",
   "metadata": {},
   "outputs": [
    {
     "name": "stdout",
     "output_type": "stream",
     "text": [
      "6\n"
     ]
    }
   ],
   "source": [
    "grid = [\n",
    "    [1, 2, 3],   # row 1\n",
    "    [4, 5, 6]    # row 2\n",
    "]\n",
    "print(grid[1][2])  # row 2, col 3 -> 6"
   ]
  },
  {
   "cell_type": "markdown",
   "id": "13a3ab0b",
   "metadata": {},
   "source": [
    "### Indexing & Slicing"
   ]
  },
  {
   "cell_type": "code",
   "execution_count": 4,
   "id": "affe3fcc",
   "metadata": {},
   "outputs": [
    {
     "name": "stdout",
     "output_type": "stream",
     "text": [
      "apple\n",
      "elderberry\n",
      "['banana', 'cherry', 'date']\n",
      "['apple', 'banana', 'cherry']\n",
      "['cherry', 'date', 'elderberry']\n",
      "['date', 'elderberry']\n",
      "['apple', 'cherry', 'elderberry']\n"
     ]
    }
   ],
   "source": [
    "fruits = [\"apple\", \"banana\", \"cherry\", \"date\", \"elderberry\"]\n",
    "print(fruits[0])    # first item\n",
    "print(fruits[-1])   # last item\n",
    "\n",
    "# Slicing: list[start:stop]\n",
    "print(fruits[1:4])  # items at indexes 1, 2, 3\n",
    "print(fruits[:3])   # first three items\n",
    "print(fruits[2:])   # from index 2 to the end\n",
    "print(fruits[-2:])  # last two items\n",
    "print(fruits[::2])  # step of 2\n"
   ]
  },
  {
   "cell_type": "markdown",
   "id": "51f4ef85",
   "metadata": {},
   "source": [
    "**Exercise:** Given `nums = [10, 20, 30, 40, 50, 60]`, slice to get:\n",
    "- The first three numbers\n",
    "- The last two numbers\n",
    "- Every other number (step=2)"
   ]
  },
  {
   "cell_type": "code",
   "execution_count": 5,
   "id": "ce8b27bc",
   "metadata": {},
   "outputs": [
    {
     "name": "stdout",
     "output_type": "stream",
     "text": [
      "[10, 20, 30] [50, 60] [10, 30, 50]\n"
     ]
    }
   ],
   "source": [
    "nums = [10, 20, 30, 40, 50, 60]\n",
    "first_three = nums[:3]\n",
    "last_two = nums[-2:]\n",
    "every_other = nums[::2]\n",
    "print(first_three, last_two, every_other)"
   ]
  },
  {
   "cell_type": "markdown",
   "id": "38f39846",
   "metadata": {},
   "source": [
    "### Adding Elements"
   ]
  },
  {
   "cell_type": "code",
   "execution_count": 6,
   "id": "ef31fa60",
   "metadata": {},
   "outputs": [
    {
     "name": "stdout",
     "output_type": "stream",
     "text": [
      "['apple', 'mango', 'banana', 'cherry', 'date', 'fig']\n"
     ]
    }
   ],
   "source": [
    "fruits = [\"apple\", \"banana\"]\n",
    "fruits.append(\"cherry\")         # add to end\n",
    "fruits.insert(1, \"mango\")       # insert at index 1\n",
    "fruits.extend([\"date\", \"fig\"]) # extend with another list\n",
    "print(fruits)"
   ]
  },
  {
   "cell_type": "markdown",
   "id": "1d1e66c2",
   "metadata": {},
   "source": [
    "**Exercise:** Start with `colors = [\"red\", \"green\"]` and:\n",
    "1) Insert `\"blue\"` at index 1\n",
    "2) Append `\"yellow\"`\n",
    "3) Extend with `[\"black\", \"white\"]`\n",
    "Print the result."
   ]
  },
  {
   "cell_type": "code",
   "execution_count": 7,
   "id": "72f32ffa",
   "metadata": {},
   "outputs": [
    {
     "name": "stdout",
     "output_type": "stream",
     "text": [
      "['red', 'blue', 'green', 'yellow', 'black', 'white']\n"
     ]
    }
   ],
   "source": [
    "colors = [\"red\", \"green\"]\n",
    "colors.insert(1, \"blue\")\n",
    "colors.append(\"yellow\")\n",
    "colors.extend([\"black\", \"white\"])\n",
    "print(colors)"
   ]
  },
  {
   "cell_type": "markdown",
   "id": "2e532dc1",
   "metadata": {},
   "source": [
    "### Removing Elements"
   ]
  },
  {
   "cell_type": "code",
   "execution_count": 8,
   "id": "6c660b35",
   "metadata": {},
   "outputs": [
    {
     "name": "stdout",
     "output_type": "stream",
     "text": [
      "After removals: ['banana']\n",
      "Popped item: cherry\n"
     ]
    }
   ],
   "source": [
    "fruits = [\"apple\", \"banana\", \"cherry\", \"banana\"]\n",
    "fruits.remove(\"banana\")  # removes first occurrence\n",
    "popped = fruits.pop(1)    # removes by index, returns item\n",
    "del fruits[0]             # delete by index (no return)\n",
    "print(\"After removals:\", fruits)\n",
    "print(\"Popped item:\", popped)"
   ]
  },
  {
   "cell_type": "markdown",
   "id": "903b5c64",
   "metadata": {},
   "source": [
    "**Exercise 5:** Given `nums = [5, 10, 15, 20, 25]`, remove the middle value using `pop()` and print the updated list and the removed value."
   ]
  },
  {
   "cell_type": "code",
   "execution_count": 9,
   "id": "6925154b",
   "metadata": {},
   "outputs": [
    {
     "name": "stdout",
     "output_type": "stream",
     "text": [
      "[5, 10, 20, 25] 15\n"
     ]
    }
   ],
   "source": [
    "nums = [5, 10, 15, 20, 25]\n",
    "mid_index = len(nums)//2\n",
    "removed = nums.pop(mid_index)\n",
    "print(nums, removed)"
   ]
  },
  {
   "cell_type": "markdown",
   "id": "f7c43d0f",
   "metadata": {},
   "source": [
    "### Updating Elements"
   ]
  },
  {
   "cell_type": "code",
   "execution_count": 10,
   "id": "bfd82f6d",
   "metadata": {},
   "outputs": [
    {
     "name": "stdout",
     "output_type": "stream",
     "text": [
      "[8.99, 12.99, 3.99]\n"
     ]
    }
   ],
   "source": [
    "prices = [9.99, 14.99, 4.99]\n",
    "prices[0] = 8.99\n",
    "prices[1:3] = [12.99, 3.99]  # slice assignment\n",
    "print(prices)"
   ]
  },
  {
   "cell_type": "markdown",
   "id": "d254d446",
   "metadata": {},
   "source": [
    "**Exercise 6:** Replace the last two elements of `letters = ['a', 'b', 'c', 'd']` with `['x', 'y']` using slice assignment."
   ]
  },
  {
   "cell_type": "code",
   "execution_count": 11,
   "id": "7c1ced7c",
   "metadata": {},
   "outputs": [
    {
     "name": "stdout",
     "output_type": "stream",
     "text": [
      "['a', 'b', 'x', 'y']\n"
     ]
    }
   ],
   "source": [
    "letters = ['a', 'b', 'c', 'd']\n",
    "letters[-2:] = ['x', 'y']\n",
    "print(letters)"
   ]
  },
  {
   "cell_type": "markdown",
   "id": "9e8d60a9",
   "metadata": {},
   "source": [
    "### Looping Through Lists"
   ]
  },
  {
   "cell_type": "code",
   "execution_count": 12,
   "id": "24ac82b4",
   "metadata": {},
   "outputs": [
    {
     "name": "stdout",
     "output_type": "stream",
     "text": [
      "apple\n",
      "banana\n",
      "cherry\n",
      "0 apple\n",
      "1 banana\n",
      "2 cherry\n"
     ]
    }
   ],
   "source": [
    "fruits = [\"apple\", \"banana\", \"cherry\"]\n",
    "for fruit in fruits:\n",
    "    print(fruit)\n",
    "\n",
    "# With index using enumerate\n",
    "for idx, fruit in enumerate(fruits):\n",
    "    print(idx, fruit)"
   ]
  },
  {
   "cell_type": "markdown",
   "id": "057296b0",
   "metadata": {},
   "source": [
    "**Exercise:** Loop through `names = ['Ann', 'Ben', 'Cara']` and print each name with its index (starting from 1)."
   ]
  },
  {
   "cell_type": "code",
   "execution_count": 13,
   "id": "3b88928b",
   "metadata": {},
   "outputs": [
    {
     "name": "stdout",
     "output_type": "stream",
     "text": [
      "1 Ann\n",
      "2 Ben\n",
      "3 Cara\n"
     ]
    }
   ],
   "source": [
    "names = ['Ann', 'Ben', 'Cara']\n",
    "for i, name in enumerate(names, start=1):\n",
    "    print(i, name)"
   ]
  },
  {
   "cell_type": "markdown",
   "id": "f9ece2cb",
   "metadata": {},
   "source": [
    "### Useful List Methods"
   ]
  },
  {
   "cell_type": "code",
   "execution_count": 14,
   "id": "342aa019",
   "metadata": {},
   "outputs": [
    {
     "name": "stdout",
     "output_type": "stream",
     "text": [
      "sorted: [1, 2, 3, 4]\n",
      "reversed: [4, 3, 2, 1]\n",
      "count of 2: 1\n",
      "index of 3: 1\n"
     ]
    }
   ],
   "source": [
    "nums = [4, 1, 3, 2]\n",
    "nums.sort()            # sort ascending (in place)\n",
    "print(\"sorted:\", nums)\n",
    "nums.reverse()         # reverse order (in place)\n",
    "print(\"reversed:\", nums)\n",
    "print(\"count of 2:\", nums.count(2))\n",
    "print(\"index of 3:\", nums.index(3))"
   ]
  },
  {
   "cell_type": "markdown",
   "id": "3778260a",
   "metadata": {},
   "source": [
    "**Exercise:** Given `nums = [10, 5, 8, 5, 3]`, sort the list ascending, count how many `5`s there are, and find the index of `8`."
   ]
  },
  {
   "cell_type": "code",
   "execution_count": 15,
   "id": "770c0230",
   "metadata": {},
   "outputs": [
    {
     "name": "stdout",
     "output_type": "stream",
     "text": [
      "[3, 5, 5, 8, 10] 2 3\n"
     ]
    }
   ],
   "source": [
    "nums = [10, 5, 8, 5, 3]\n",
    "nums.sort()\n",
    "count_5 = nums.count(5)\n",
    "idx_8 = nums.index(8)\n",
    "print(nums, count_5, idx_8)"
   ]
  },
  {
   "cell_type": "markdown",
   "id": "cd75fe31",
   "metadata": {},
   "source": [
    "### List Comprehensions"
   ]
  },
  {
   "cell_type": "code",
   "execution_count": 16,
   "id": "5897731d",
   "metadata": {},
   "outputs": [
    {
     "name": "stdout",
     "output_type": "stream",
     "text": [
      "[0, 1, 4, 9, 16, 25]\n",
      "[0, 2, 4, 6, 8]\n",
      "['Alice', 'Bob', 'Cara']\n"
     ]
    }
   ],
   "source": [
    "# Square numbers 0..5\n",
    "squares = [x**2 for x in range(6)]\n",
    "print(squares)\n",
    "\n",
    "# Filter even numbers\n",
    "evens = [x for x in range(10) if x % 2 == 0]\n",
    "print(evens)\n",
    "\n",
    "# Transform strings\n",
    "names = [\"alice\", \"bob\", \"cara\"]\n",
    "caps = [n.title() for n in names]\n",
    "print(caps)"
   ]
  },
  {
   "cell_type": "markdown",
   "id": "e56da301",
   "metadata": {},
   "source": [
    "**Exercise:** Using `nums = [1, 2, 3, 4, 5, 6]`, build a new list of squares **only for the odd numbers**."
   ]
  },
  {
   "cell_type": "code",
   "execution_count": 17,
   "id": "baf81828",
   "metadata": {},
   "outputs": [
    {
     "name": "stdout",
     "output_type": "stream",
     "text": [
      "[1, 9, 25]\n"
     ]
    }
   ],
   "source": [
    "nums = [1, 2, 3, 4, 5, 6]\n",
    "odd_squares = [x**2 for x in nums if x % 2 == 1]\n",
    "print(odd_squares)"
   ]
  },
  {
   "cell_type": "markdown",
   "id": "ae97a9c2",
   "metadata": {},
   "source": [
    "### Summary"
   ]
  },
  {
   "cell_type": "markdown",
   "id": "ce829e33",
   "metadata": {},
   "source": [
    "- Lists are **ordered** and **mutable**\n",
    "- Support indexing, slicing, adding/removing, updating, and iterating\n",
    "- Powerful methods and **list comprehensions** make data processing concise"
   ]
  },
  {
   "cell_type": "markdown",
   "id": "c1f8d4d3",
   "metadata": {},
   "source": [
    "### Practice: Consolidated Exercises\n",
    "1) Create a list `pets` with three animal names. Append one more.\n",
    "2) From `grades = [60, 70, 80, 90, 100]`, slice the last three grades.\n",
    "3) Replace the first two items in `tools = ['hammer', 'screwdriver', 'wrench']` with `['saw', 'drill']`.\n",
    "4) Use a loop to print each item in `colors = ['red', 'green', 'blue']` with its index.\n",
    "5) Use a comprehension to create `[x*10 for x in [1,2,3,4]]`."
   ]
  },
  {
   "cell_type": "code",
   "execution_count": 18,
   "id": "8dc9ecd8",
   "metadata": {},
   "outputs": [
    {
     "name": "stdout",
     "output_type": "stream",
     "text": [
      "['cat', 'dog', 'hamster', 'parrot']\n",
      "[80, 90, 100]\n",
      "['saw', 'drill', 'wrench']\n",
      "0 red\n",
      "1 green\n",
      "2 blue\n",
      "[10, 20, 30, 40]\n"
     ]
    }
   ],
   "source": [
    "# 1) pets list\n",
    "pets = [\"cat\", \"dog\", \"hamster\"]\n",
    "pets.append(\"parrot\")\n",
    "print(pets)\n",
    "\n",
    "# 2) slice last three grades\n",
    "grades = [60, 70, 80, 90, 100]\n",
    "print(grades[-3:])\n",
    "\n",
    "# 3) replace first two items\n",
    "tools = ['hammer', 'screwdriver', 'wrench']\n",
    "tools[:2] = ['saw', 'drill']\n",
    "print(tools)\n",
    "\n",
    "# 4) loop with index\n",
    "colors = ['red', 'green', 'blue']\n",
    "for i, c in enumerate(colors):\n",
    "    print(i, c)\n",
    "\n",
    "# 5) comprehension * 10\n",
    "print([x*10 for x in [1,2,3,4]])"
   ]
  },
  {
   "cell_type": "markdown",
   "id": "c056d2a3",
   "metadata": {},
   "source": [
    "## Working with Nested Lists (Matrices)\n",
    "This notebook demonstrates how to access elements in a nested list (list of lists), like a matrix or table."
   ]
  },
  {
   "cell_type": "markdown",
   "id": "3ceb0b17",
   "metadata": {},
   "source": [
    "### Example: A 3x2 Matrix"
   ]
  },
  {
   "cell_type": "code",
   "execution_count": 9,
   "id": "99e70f1c",
   "metadata": {},
   "outputs": [
    {
     "name": "stdout",
     "output_type": "stream",
     "text": [
      "[[1, 2], [3, 4], [5, 6]]\n"
     ]
    }
   ],
   "source": [
    "matrix = [\n",
    "    [1, 2],    # row 0\n",
    "    [3, 4],    # row 1\n",
    "    [5, 6]     # row 2\n",
    "]\n",
    "\n",
    "print(matrix)"
   ]
  },
  {
   "cell_type": "markdown",
   "id": "bd1f9e5d",
   "metadata": {},
   "source": [
    "### Accessing Specific Elements"
   ]
  },
  {
   "cell_type": "code",
   "execution_count": 10,
   "id": "bbabb369",
   "metadata": {},
   "outputs": [
    {
     "name": "stdout",
     "output_type": "stream",
     "text": [
      "1\n",
      "2\n",
      "5\n"
     ]
    }
   ],
   "source": [
    "print(matrix[0][0])  # 1 (row 0, column 0)\n",
    "print(matrix[0][1])  # 2 (row 0, column 1)\n",
    "print(matrix[2][0])  # 5 (row 2, column 0)"
   ]
  },
  {
   "cell_type": "markdown",
   "id": "29c9ed1b",
   "metadata": {},
   "source": [
    "### Looping Through a Matrix"
   ]
  },
  {
   "cell_type": "code",
   "execution_count": null,
   "id": "e5977a86",
   "metadata": {},
   "outputs": [],
   "source": [
    "for row in matrix:\n",
    "    for item in row:\n",
    "        print(item, end=' ')\n",
    "    print()  # new line after each row"
   ]
  },
  {
   "cell_type": "code",
   "execution_count": null,
   "id": "451b9616",
   "metadata": {},
   "outputs": [],
   "source": []
  },
  {
   "cell_type": "markdown",
   "id": "5e145c9d",
   "metadata": {},
   "source": [
    "---"
   ]
  }
 ],
 "metadata": {
  "kernelspec": {
   "display_name": "Python 3 (ipykernel)",
   "language": "python",
   "name": "python3"
  },
  "language_info": {
   "codemirror_mode": {
    "name": "ipython",
    "version": 3
   },
   "file_extension": ".py",
   "mimetype": "text/x-python",
   "name": "python",
   "nbconvert_exporter": "python",
   "pygments_lexer": "ipython3",
   "version": "3.11.4"
  }
 },
 "nbformat": 4,
 "nbformat_minor": 5
}
