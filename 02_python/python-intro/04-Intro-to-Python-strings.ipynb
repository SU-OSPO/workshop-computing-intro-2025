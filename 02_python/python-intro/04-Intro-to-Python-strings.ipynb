{
 "cells": [
  {
   "cell_type": "markdown",
   "id": "fbb91858",
   "metadata": {},
   "source": [
    "## Strings in Python\n",
    "A string is a sequence of characters. In Python, strings are immutable and can be created with single, double, or triple quotes."
   ]
  },
  {
   "cell_type": "markdown",
   "id": "f185921d",
   "metadata": {},
   "source": [
    "### Creating Strings"
   ]
  },
  {
   "cell_type": "code",
   "execution_count": 1,
   "id": "878fdd27",
   "metadata": {},
   "outputs": [
    {
     "name": "stdout",
     "output_type": "stream",
     "text": [
      "Alice\n",
      "Hello\n",
      "This is\n",
      "a multi-line\n",
      "string.\n"
     ]
    }
   ],
   "source": [
    "# Single quotes\n",
    "name = 'Alice'\n",
    "print(name)\n",
    "\n",
    "# Double quotes\n",
    "greeting = \"Hello\"\n",
    "print(greeting)\n",
    "\n",
    "# Triple quotes for multi-line strings\n",
    "message = '''This is\n",
    "a multi-line\n",
    "string.'''\n",
    "print(message)"
   ]
  },
  {
   "cell_type": "markdown",
   "id": "60b8c00f",
   "metadata": {},
   "source": [
    "**Exercise:** Create a string with your name and another string with your favorite hobby, then print them together."
   ]
  },
  {
   "cell_type": "code",
   "execution_count": 2,
   "id": "0c5febc7",
   "metadata": {},
   "outputs": [
    {
     "name": "stdout",
     "output_type": "stream",
     "text": [
      "Alice enjoys painting\n"
     ]
    }
   ],
   "source": [
    "name = \"Alice\"\n",
    "hobby = \"painting\"\n",
    "print(name + \" enjoys \" + hobby)"
   ]
  },
  {
   "cell_type": "markdown",
   "id": "fc7c7944",
   "metadata": {},
   "source": [
    "### String Length"
   ]
  },
  {
   "cell_type": "code",
   "execution_count": null,
   "id": "4acb42e0",
   "metadata": {},
   "outputs": [],
   "source": [
    "text = \"Hello\"\n",
    "print(len(text))"
   ]
  },
  {
   "cell_type": "markdown",
   "id": "8c33bce5",
   "metadata": {},
   "source": [
    "### Accessing Characters (Indexing & Slicing)"
   ]
  },
  {
   "cell_type": "code",
   "execution_count": null,
   "id": "05e81738",
   "metadata": {},
   "outputs": [],
   "source": [
    "word = \"Python\"\n",
    "print(word[0])    # First character\n",
    "print(word[-1])   # Last character\n",
    "print(word[0:3])  # Slice from index 0 to 2"
   ]
  },
  {
   "cell_type": "markdown",
   "id": "02b70d11",
   "metadata": {},
   "source": [
    "**Exercise:** Print the first three letters of your name using slicing."
   ]
  },
  {
   "cell_type": "code",
   "execution_count": 3,
   "id": "6b670ef5",
   "metadata": {},
   "outputs": [
    {
     "name": "stdout",
     "output_type": "stream",
     "text": [
      "Ali\n"
     ]
    }
   ],
   "source": [
    "name = \"Alice\"\n",
    "print(name[:3])"
   ]
  },
  {
   "cell_type": "markdown",
   "id": "60786543",
   "metadata": {},
   "source": [
    "### String Operations"
   ]
  },
  {
   "cell_type": "code",
   "execution_count": null,
   "id": "5f54bbb8",
   "metadata": {},
   "outputs": [],
   "source": [
    "first = \"Hello\"\n",
    "second = \"World\"\n",
    "print(first + \" \" + second)  # Concatenation\n",
    "laugh = \"ha\"\n",
    "print(laugh * 3)              # Repetition"
   ]
  },
  {
   "cell_type": "markdown",
   "id": "208ce193",
   "metadata": {},
   "source": [
    "**Exercise:** Concatenate your first and last name with a space between them."
   ]
  },
  {
   "cell_type": "code",
   "execution_count": 4,
   "id": "0334800f",
   "metadata": {},
   "outputs": [
    {
     "name": "stdout",
     "output_type": "stream",
     "text": [
      "Alice Smith\n"
     ]
    }
   ],
   "source": [
    "first_name = \"Alice\"\n",
    "last_name = \"Smith\"\n",
    "full_name = first_name + \" \" + last_name\n",
    "print(full_name)"
   ]
  },
  {
   "cell_type": "markdown",
   "id": "21c9c03c",
   "metadata": {},
   "source": [
    "### String Methods"
   ]
  },
  {
   "cell_type": "code",
   "execution_count": null,
   "id": "40cd8f50",
   "metadata": {},
   "outputs": [],
   "source": [
    "s = \"  Hello World  \"\n",
    "print(s.lower())\n",
    "print(s.upper())\n",
    "print(s.title())\n",
    "print(s.strip())\n",
    "print(s.replace(\"World\", \"Python\"))\n",
    "print(s.split())\n",
    "print(\"-\".join([\"a\", \"b\", \"c\"]))"
   ]
  },
  {
   "cell_type": "markdown",
   "id": "e7ce78df",
   "metadata": {},
   "source": [
    "**Exercise:** Take a sentence and:\n\n",
    "1. Convert it to uppercase.\n",
    "2. Replace one word with another.\n",
    "3. Split it into a list of words."
   ]
  },
  {
   "cell_type": "code",
   "execution_count": 5,
   "id": "01f9faf8",
   "metadata": {},
   "outputs": [
    {
     "name": "stdout",
     "output_type": "stream",
     "text": [
      "PYTHON IS FUN\n",
      "Python is awesome\n",
      "['Python', 'is', 'fun']\n"
     ]
    }
   ],
   "source": [
    "sentence = \"Python is fun\"\n",
    "print(sentence.upper())\n",
    "print(sentence.replace(\"fun\", \"awesome\"))\n",
    "print(sentence.split())"
   ]
  },
  {
   "cell_type": "markdown",
   "id": "e2bfce99",
   "metadata": {},
   "source": [
    "### Escape Characters"
   ]
  },
  {
   "cell_type": "code",
   "execution_count": null,
   "id": "c95ea7b8",
   "metadata": {},
   "outputs": [],
   "source": [
    "print(\"Line 1\\nLine 2\")\n",
    "print(\"Tab\\tSpace\")\n",
    "print(\"She said \\\"Hello\\\"\")"
   ]
  },
  {
   "cell_type": "markdown",
   "id": "ac156a4b",
   "metadata": {},
   "source": [
    "### f-Strings (Formatted Strings)"
   ]
  },
  {
   "cell_type": "code",
   "execution_count": null,
   "id": "6d782855",
   "metadata": {},
   "outputs": [],
   "source": [
    "name = \"Alice\"\n",
    "age = 25\n",
    "print(f\"My name is {name} and I am {age} years old.\")"
   ]
  },
  {
   "cell_type": "markdown",
   "id": "d2aa6bad",
   "metadata": {},
   "source": [
    "**Exercise:** Create two variables (city and temperature) and print a sentence using f-strings."
   ]
  },
  {
   "cell_type": "code",
   "execution_count": 6,
   "id": "a7cb7877",
   "metadata": {},
   "outputs": [
    {
     "name": "stdout",
     "output_type": "stream",
     "text": [
      "The temperature in Tokyo is 26°C today.\n"
     ]
    }
   ],
   "source": [
    "city = \"Tokyo\"\n",
    "temperature = 26\n",
    "print(f\"The temperature in {city} is {temperature}°C today.\")"
   ]
  },
  {
   "cell_type": "markdown",
   "id": "55050473",
   "metadata": {},
   "source": [
    "### Strings are Immutable"
   ]
  },
  {
   "cell_type": "code",
   "execution_count": null,
   "id": "382dea00",
   "metadata": {},
   "outputs": [],
   "source": [
    "word = \"Python\"\n",
    "# word[0] = \"J\"  # This would cause an error\n",
    "word = \"J\" + word[1:]\n",
    "print(word)"
   ]
  },
  {
   "cell_type": "markdown",
   "id": "f05b68c4",
   "metadata": {},
   "source": [
    "### Summary\n",
    "- Strings store sequences of characters.\n",
    "- They are immutable.\n",
    "- You can use indexing, slicing, concatenation, and repetition.\n",
    "- String methods allow transformations and queries.\n",
    "- f-strings provide an easy way to format text."
   ]
  },
  {
   "cell_type": "code",
   "execution_count": null,
   "id": "43c7f153",
   "metadata": {},
   "outputs": [],
   "source": []
  }
 ],
 "metadata": {
  "kernelspec": {
   "display_name": "Python 3 (ipykernel)",
   "language": "python",
   "name": "python3"
  },
  "language_info": {
   "codemirror_mode": {
    "name": "ipython",
    "version": 3
   },
   "file_extension": ".py",
   "mimetype": "text/x-python",
   "name": "python",
   "nbconvert_exporter": "python",
   "pygments_lexer": "ipython3",
   "version": "3.11.4"
  }
 },
 "nbformat": 4,
 "nbformat_minor": 5
}
