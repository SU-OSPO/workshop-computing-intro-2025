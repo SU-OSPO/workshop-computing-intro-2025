{
 "cells": [
  {
   "cell_type": "markdown",
   "id": "5b155af8",
   "metadata": {},
   "source": [
    "## Number Types in Python\n",
    "This notebook introduces Python's built-in number-related types: integers, floats, and complex numbers, along with type conversion, type checking, and small exercises."
   ]
  },
  {
   "cell_type": "markdown",
   "id": "d8fd9b4b",
   "metadata": {},
   "source": [
    "###  Integers (`int`)"
   ]
  },
  {
   "cell_type": "markdown",
   "id": "387e1102",
   "metadata": {},
   "source": [
    "Integers are whole numbers (positive, negative, or zero) without decimal points.\n",
    "\n",
    "**Examples:**"
   ]
  },
  {
   "cell_type": "code",
   "execution_count": 1,
   "id": "1b966d66",
   "metadata": {},
   "outputs": [
    {
     "name": "stdout",
     "output_type": "stream",
     "text": [
      "10 -5 0\n"
     ]
    }
   ],
   "source": [
    "a = 10\n",
    "b = -5\n",
    "c = 0\n",
    "print(a, b, c)"
   ]
  },
  {
   "cell_type": "markdown",
   "id": "d1e66911",
   "metadata": {},
   "source": [
    "**Exercise:** Create two integer variables and print their sum."
   ]
  },
  {
   "cell_type": "code",
   "execution_count": 8,
   "id": "bc8b8093",
   "metadata": {},
   "outputs": [
    {
     "name": "stdout",
     "output_type": "stream",
     "text": [
      "Sum: 19\n"
     ]
    }
   ],
   "source": [
    "x = 7\n",
    "y = 12\n",
    "print(\"Sum:\", x + y)"
   ]
  },
  {
   "cell_type": "markdown",
   "id": "18e6cf70",
   "metadata": {},
   "source": [
    "###  Floating Point Numbers (`float`)"
   ]
  },
  {
   "cell_type": "markdown",
   "id": "29fe4359",
   "metadata": {},
   "source": [
    "Floats are numbers with decimal points or in scientific notation.\n",
    "\n",
    "**Examples:**"
   ]
  },
  {
   "cell_type": "code",
   "execution_count": 2,
   "id": "9fcd4e05",
   "metadata": {},
   "outputs": [
    {
     "name": "stdout",
     "output_type": "stream",
     "text": [
      "3.14159 0.07 -2.5 6.022e+23\n"
     ]
    }
   ],
   "source": [
    "pi = 3.14159\n",
    "tax_rate = 0.07\n",
    "distance = -2.5\n",
    "avogadro = 6.022e23\n",
    "print(pi, tax_rate, distance, avogadro)"
   ]
  },
  {
   "cell_type": "markdown",
   "id": "9e8b5bd9",
   "metadata": {},
   "source": [
    "**Exercise:** Create a float variable for temperature and print it in a sentence using an f-string."
   ]
  },
  {
   "cell_type": "code",
   "execution_count": 9,
   "id": "a775539f",
   "metadata": {},
   "outputs": [
    {
     "name": "stdout",
     "output_type": "stream",
     "text": [
      "The current temperature is 23.5°C.\n"
     ]
    }
   ],
   "source": [
    "temperature = 23.5\n",
    "print(f\"The current temperature is {temperature}°C.\")"
   ]
  },
  {
   "cell_type": "markdown",
   "id": "c81ec89f",
   "metadata": {},
   "source": [
    "###  Complex Numbers (`complex`)"
   ]
  },
  {
   "cell_type": "markdown",
   "id": "814cacf4",
   "metadata": {},
   "source": [
    "Complex numbers have a real and imaginary part, written as `a + bj`.\n",
    "\n",
    "**Examples:**"
   ]
  },
  {
   "cell_type": "code",
   "execution_count": 3,
   "id": "08079885",
   "metadata": {},
   "outputs": [
    {
     "name": "stdout",
     "output_type": "stream",
     "text": [
      "z1: (2+3j)\n",
      "z2: (1-4j)\n",
      "Sum: (3-1j)\n"
     ]
    }
   ],
   "source": [
    "z1 = 2 + 3j\n",
    "z2 = 1 - 4j\n",
    "print(\"z1:\", z1)\n",
    "print(\"z2:\", z2)\n",
    "print(\"Sum:\", z1 + z2)"
   ]
  },
  {
   "cell_type": "markdown",
   "id": "e93818e3",
   "metadata": {},
   "source": [
    "### Why Use `j` for Complex Numbers in Python?\n",
    "In mathematics, the imaginary unit is often written as `i`. However, in engineering, `i` is commonly used to represent electric current.\n",
    "To avoid confusion, Python uses `j` to represent the imaginary unit (`√-1`).\n",
    "\n",
    "**Example:**\n",
    "- `1j` means the imaginary number 0 + 1×j.\n",
    "- `2 + 3j` means a complex number with real part 2 and imaginary part 3."
   ]
  },
  {
   "cell_type": "code",
   "execution_count": 13,
   "id": "0f048ed1",
   "metadata": {},
   "outputs": [
    {
     "name": "stdout",
     "output_type": "stream",
     "text": [
      "(2+3j)\n",
      "Real part: 2.0\n",
      "Imaginary part: 3.0\n"
     ]
    }
   ],
   "source": [
    "# Complex number example with j\n",
    "z = 2 + 3j\n",
    "print(z)        # prints 2 + 3j\n",
    "\n",
    "# Accessing real and imaginary parts\n",
    "print(\"Real part:\", z.real)\n",
    "print(\"Imaginary part:\", z.imag)"
   ]
  },
  {
   "cell_type": "markdown",
   "id": "31ae3a41",
   "metadata": {},
   "source": [
    "**Exercise:** Create two complex numbers and multiply them."
   ]
  },
  {
   "cell_type": "code",
   "execution_count": 10,
   "id": "4a1867a5",
   "metadata": {},
   "outputs": [
    {
     "name": "stdout",
     "output_type": "stream",
     "text": [
      "Multiplication result: (14-5j)\n"
     ]
    }
   ],
   "source": [
    "z1 = 2 + 3j\n",
    "z2 = 1 - 4j\n",
    "result = z1 * z2\n",
    "print(\"Multiplication result:\", result)"
   ]
  },
  {
   "cell_type": "markdown",
   "id": "13ca9ca9",
   "metadata": {},
   "source": [
    "### Type Conversions"
   ]
  },
  {
   "cell_type": "markdown",
   "id": "9ca79baa",
   "metadata": {},
   "source": [
    "Convert between number types using `int()`, `float()`, and `complex()`."
   ]
  },
  {
   "cell_type": "code",
   "execution_count": 4,
   "id": "67d8f374",
   "metadata": {},
   "outputs": [
    {
     "name": "stdout",
     "output_type": "stream",
     "text": [
      "3\n",
      "5.0\n",
      "(2+3j)\n"
     ]
    }
   ],
   "source": [
    "print(int(3.7))\n",
    "print(float(5))\n",
    "print(complex(2, 3))"
   ]
  },
  {
   "cell_type": "markdown",
   "id": "0cac0b6d",
   "metadata": {},
   "source": [
    "**Exercise:** Convert an integer to a float and a float to an integer, then print the results."
   ]
  },
  {
   "cell_type": "code",
   "execution_count": 11,
   "id": "d053c56c",
   "metadata": {},
   "outputs": [
    {
     "name": "stdout",
     "output_type": "stream",
     "text": [
      "Integer to float: 10.0\n",
      "Float to integer: 5\n"
     ]
    }
   ],
   "source": [
    "my_int = 10\n",
    "my_float = 5.99\n",
    "\n",
    "converted_to_float = float(my_int)\n",
    "converted_to_int = int(my_float)\n",
    "\n",
    "print(\"Integer to float:\", converted_to_float)\n",
    "print(\"Float to integer:\", converted_to_int)"
   ]
  },
  {
   "cell_type": "markdown",
   "id": "e0366224",
   "metadata": {},
   "source": [
    "### Checking Types"
   ]
  },
  {
   "cell_type": "code",
   "execution_count": 5,
   "id": "83e2dde8",
   "metadata": {},
   "outputs": [
    {
     "name": "stdout",
     "output_type": "stream",
     "text": [
      "<class 'int'>\n",
      "<class 'float'>\n",
      "<class 'complex'>\n"
     ]
    }
   ],
   "source": [
    "print(type(10))\n",
    "print(type(3.14))\n",
    "print(type(2+3j))"
   ]
  },
  {
   "cell_type": "markdown",
   "id": "3933bc87",
   "metadata": {},
   "source": [
    "**Exercise:** Use `type()` to check the type of a number you define."
   ]
  },
  {
   "cell_type": "code",
   "execution_count": 12,
   "id": "d7fbd029",
   "metadata": {},
   "outputs": [
    {
     "name": "stdout",
     "output_type": "stream",
     "text": [
      "<class 'float'>\n"
     ]
    }
   ],
   "source": [
    "value = 42.0\n",
    "print(type(value))"
   ]
  },
  {
   "cell_type": "markdown",
   "id": "e7a2e332",
   "metadata": {},
   "source": [
    "###  Common Pitfalls"
   ]
  },
  {
   "cell_type": "code",
   "execution_count": 7,
   "id": "8613d5be",
   "metadata": {},
   "outputs": [
    {
     "name": "stdout",
     "output_type": "stream",
     "text": [
      "False\n",
      "2.5\n",
      "2\n"
     ]
    }
   ],
   "source": [
    "print(0.1 + 0.2 == 0.3)  # Floating-point precision issue\n",
    "print(5 / 2)             # Division returns float\n",
    "print(5 // 2)            # Floor division returns int"
   ]
  },
  {
   "cell_type": "code",
   "execution_count": null,
   "id": "8518c4cb",
   "metadata": {},
   "outputs": [],
   "source": []
  }
 ],
 "metadata": {
  "kernelspec": {
   "display_name": "Python 3 (ipykernel)",
   "language": "python",
   "name": "python3"
  },
  "language_info": {
   "codemirror_mode": {
    "name": "ipython",
    "version": 3
   },
   "file_extension": ".py",
   "mimetype": "text/x-python",
   "name": "python",
   "nbconvert_exporter": "python",
   "pygments_lexer": "ipython3",
   "version": "3.11.4"
  }
 },
 "nbformat": 4,
 "nbformat_minor": 5
}
