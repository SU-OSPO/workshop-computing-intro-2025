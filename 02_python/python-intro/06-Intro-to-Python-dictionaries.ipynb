{
 "cells": [
  {
   "cell_type": "markdown",
   "id": "b072c834",
   "metadata": {},
   "source": [
    "## Using Dictionaries to Represent Single and Multiple Items\n",
    "\n",
    "In Python, a **dictionary** represents one item (e.g., one student).\n",
    "To store multiple such items, we use a **list of dictionaries**."
   ]
  },
  {
   "cell_type": "markdown",
   "id": "b7efe916",
   "metadata": {},
   "source": [
    "### Examples\n",
    "**One Dictionary for One Student**"
   ]
  },
  {
   "cell_type": "code",
   "execution_count": 9,
   "id": "ae2242ed",
   "metadata": {},
   "outputs": [
    {
     "name": "stdout",
     "output_type": "stream",
     "text": [
      "Alice\n",
      "Computer Science\n"
     ]
    }
   ],
   "source": [
    "student = {\n",
    "    \"name\": \"Alice\",\n",
    "    \"age\": 21,\n",
    "    \"major\": \"Computer Science\"\n",
    "}\n",
    "print(student[\"name\"])\n",
    "print(student[\"major\"])"
   ]
  },
  {
   "cell_type": "markdown",
   "id": "e386fda9",
   "metadata": {},
   "source": [
    "**List of Dictionaries for Multiple Students**"
   ]
  },
  {
   "cell_type": "code",
   "execution_count": 10,
   "id": "c348f247",
   "metadata": {},
   "outputs": [
    {
     "name": "stdout",
     "output_type": "stream",
     "text": [
      "Math\n"
     ]
    }
   ],
   "source": [
    "students = [\n",
    "    {\"name\": \"Alice\", \"age\": 21, \"major\": \"CS\"},\n",
    "    {\"name\": \"Bob\", \"age\": 22, \"major\": \"Math\"},\n",
    "    {\"name\": \"Cara\", \"age\": 20, \"major\": \"Biology\"}\n",
    "]\n",
    "\n",
    "# Accessing second student's major\n",
    "print(students[1][\"major\"])"
   ]
  },
  {
   "cell_type": "markdown",
   "id": "05fe9cb9",
   "metadata": {},
   "source": [
    "**Looping Through a List of Dictionaries**"
   ]
  },
  {
   "cell_type": "code",
   "execution_count": 11,
   "id": "07600006",
   "metadata": {},
   "outputs": [
    {
     "name": "stdout",
     "output_type": "stream",
     "text": [
      "Alice is studying CS\n",
      "Bob is studying Math\n",
      "Cara is studying Biology\n"
     ]
    }
   ],
   "source": [
    "for student in students:\n",
    "    print(student[\"name\"], \"is studying\", student[\"major\"])"
   ]
  },
  {
   "cell_type": "markdown",
   "id": "503e111d",
   "metadata": {},
   "source": [
    "**Exercise**\n\n",
    "- Add a new student to the `students` list.\n",
    "- Print each student's name and age.\n",
    "- Try changing a student's major."
   ]
  },
  {
   "cell_type": "code",
   "execution_count": 12,
   "id": "a0eea3b8",
   "metadata": {},
   "outputs": [
    {
     "name": "stdout",
     "output_type": "stream",
     "text": [
      "Alice is 21 years old.\n",
      "Bob is 22 years old.\n",
      "Cara is 20 years old.\n",
      "Kate is 21 years old.\n",
      "[{'name': 'Alice', 'age': 21, 'major': 'CS'}, {'name': 'Bob', 'age': 22, 'major': 'Political Science'}, {'name': 'Cara', 'age': 20, 'major': 'Biology'}, {'name': 'Kate', 'age': 21, 'major': 'Computer Science'}]\n"
     ]
    }
   ],
   "source": [
    "new_student = {\"name\": \"Kate\", \"age\": 21, \"major\": \"Computer Science\"}\n",
    "students.append(new_student)\n",
    "\n",
    "for student in students:\n",
    "    print(f\"{student['name']} is {student['age']} years old.\")\n",
    "\n",
    "for student in students:\n",
    "    if student[\"name\"] == \"Bob\":\n",
    "        student[\"major\"] = \"Political Science\"\n",
    "\n",
    "print(students)"
   ]
  },
  {
   "cell_type": "code",
   "execution_count": null,
   "id": "97fe2a09",
   "metadata": {},
   "outputs": [],
   "source": []
  }
 ],
 "metadata": {
  "kernelspec": {
   "display_name": "Python 3 (ipykernel)",
   "language": "python",
   "name": "python3"
  },
  "language_info": {
   "codemirror_mode": {
    "name": "ipython",
    "version": 3
   },
   "file_extension": ".py",
   "mimetype": "text/x-python",
   "name": "python",
   "nbconvert_exporter": "python",
   "pygments_lexer": "ipython3",
   "version": "3.11.4"
  }
 },
 "nbformat": 4,
 "nbformat_minor": 5
}
