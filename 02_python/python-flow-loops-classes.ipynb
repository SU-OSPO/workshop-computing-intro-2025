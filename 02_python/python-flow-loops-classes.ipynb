{
 "cells": [
  {
   "metadata": {},
   "cell_type": "markdown",
   "source": "# Python (Hinds 111): flow, loops, and classes",
   "id": "bffae53de272a9af"
  },
  {
   "metadata": {},
   "cell_type": "markdown",
   "source": "##  1. Flow Control",
   "id": "be485b2f02309857"
  },
  {
   "metadata": {},
   "cell_type": "markdown",
   "source": "### 1.1 Sequential Execution",
   "id": "c109510e73d21fc3"
  },
  {
   "metadata": {},
   "cell_type": "markdown",
   "source": "In Python, code is executed one line at a time, from top to bottom, unless you use something that changes the flow (like a function call or a loop).\n",
   "id": "6ce2d5461f1dc906"
  },
  {
   "metadata": {
    "ExecuteTime": {
     "end_time": "2025-07-30T20:38:15.635860Z",
     "start_time": "2025-07-30T20:38:15.630741Z"
    }
   },
   "cell_type": "code",
   "source": [
    "print(\"Step 1\")\n",
    "print(\"Step 2\")\n",
    "print(\"Step 3\")"
   ],
   "id": "740789d657d36580",
   "outputs": [
    {
     "name": "stdout",
     "output_type": "stream",
     "text": [
      "Step 1\n",
      "Step 2\n",
      "Step 3\n"
     ]
    }
   ],
   "execution_count": 2
  },
  {
   "metadata": {},
   "cell_type": "markdown",
   "source": "Each line is executed in order.",
   "id": "6d5580d3171ce1"
  },
  {
   "metadata": {},
   "cell_type": "markdown",
   "source": [
    "### 1.2 Conditional Statements (`if`, `elif`, `else`)\n",
    "Conditional statements let your code make decisions based on certain conditions.\n",
    "\n",
    "### 1.2.1 Basic Structure:\n",
    "\n",
    "```python\n",
    "if condition:\n",
    "    # code runs if condition is True\n",
    "elif other_condition:\n",
    "    # code runs if other_condition is True\n",
    "else:\n",
    "    # code runs if none of the above are True\n",
    "```\n"
   ],
   "id": "4d9d3cbd7293bacd"
  },
  {
   "metadata": {
    "ExecuteTime": {
     "end_time": "2025-07-30T21:07:04.413473Z",
     "start_time": "2025-07-30T21:07:04.407968Z"
    }
   },
   "cell_type": "code",
   "source": [
    "# Example:\n",
    "\n",
    "age = 24\n",
    "\n",
    "if age >= 21:\n",
    "    print(\"You can legally drink alcohol in the U.S.\")\n",
    "elif age >= 18:\n",
    "    print(\"You are an adult, but not old enough to drink.\")\n",
    "else:\n",
    "    print(\"You are a minor.\")\n"
   ],
   "id": "65fa7758eb7953ae",
   "outputs": [
    {
     "name": "stdout",
     "output_type": "stream",
     "text": [
      "You can legally drink alcohol in the U.S.\n"
     ]
    }
   ],
   "execution_count": 11
  },
  {
   "metadata": {},
   "cell_type": "markdown",
   "source": [
    "### 1.2.2 Multiple Conditions:\n",
    "\n",
    "You can also combine conditions using `and`, `or`, and `not`."
   ],
   "id": "8f2ef28084c8164c"
  },
  {
   "metadata": {
    "ExecuteTime": {
     "end_time": "2025-07-30T20:44:25.416537Z",
     "start_time": "2025-07-30T20:44:25.413266Z"
    }
   },
   "cell_type": "code",
   "source": [
    "# Example\n",
    "\n",
    "temperature_f = 75  # Fahrenheit\n",
    "is_raining = False\n",
    "\n",
    "if temperature_f > 70 and not is_raining:\n",
    "    print(\"It's a great day for a baseball game!\")"
   ],
   "id": "20ec4af2f5f64c3b",
   "outputs": [
    {
     "name": "stdout",
     "output_type": "stream",
     "text": [
      "It's a great day for a baseball game!\n"
     ]
    }
   ],
   "execution_count": 7
  },
  {
   "metadata": {},
   "cell_type": "markdown",
   "source": "### 1.3 Conditional (Ternary) Expressions",
   "id": "ebef486aef51cd32"
  },
  {
   "metadata": {},
   "cell_type": "markdown",
   "source": [
    "A conditional (ternary) expression lets you assign a value based on a condition in a single line.\n",
    "\n",
    "**Syntax:**\n",
    "`x = a if condition else b`"
   ],
   "id": "c1f8e02b114e7750"
  },
  {
   "metadata": {
    "ExecuteTime": {
     "end_time": "2025-07-30T20:45:20.647771Z",
     "start_time": "2025-07-30T20:45:20.644147Z"
    }
   },
   "cell_type": "code",
   "source": [
    "# Example\n",
    "\n",
    "age = 20\n",
    "status = \"can rent a car\" if age >= 25 else \"cannot rent a car yet\"\n",
    "print(status)\n"
   ],
   "id": "5f3980d36137090d",
   "outputs": [
    {
     "name": "stdout",
     "output_type": "stream",
     "text": [
      "cannot rent a car yet\n"
     ]
    }
   ],
   "execution_count": 9
  },
  {
   "metadata": {},
   "cell_type": "markdown",
   "source": [
    "### 1.4 `pass`, `break`, `continue`\n",
    "These keywords control how your code flows in loops and conditionals."
   ],
   "id": "868329adcb22ce10"
  },
  {
   "metadata": {},
   "cell_type": "markdown",
   "source": [
    "#### `pass`\n",
    "\n",
    "`pass` does nothing. It’s used as a placeholder when code is required but you have nothing to write yet.\n"
   ],
   "id": "d4c2f316dc37c52b"
  },
  {
   "metadata": {
    "ExecuteTime": {
     "end_time": "2025-07-30T20:46:27.911777Z",
     "start_time": "2025-07-30T20:46:27.908680Z"
    }
   },
   "cell_type": "code",
   "source": [
    "if True:\n",
    "    pass  # Placeholder for future code"
   ],
   "id": "dc84e1b00ae62458",
   "outputs": [],
   "execution_count": 10
  },
  {
   "metadata": {},
   "cell_type": "markdown",
   "source": "Suppose you’re building a menu system for a fast-food restaurant app, and you haven’t yet decided what to do if the customer selects a menu item that’s “coming soon.” You want your code to run without errors, but you’re not ready to implement that part yet.",
   "id": "deb11e46f7bfac4a"
  },
  {
   "metadata": {
    "ExecuteTime": {
     "end_time": "2025-07-30T21:09:40.672657Z",
     "start_time": "2025-07-30T21:09:40.669092Z"
    }
   },
   "cell_type": "code",
   "source": [
    "menu_item = \"Pumpkin Spice Latte\"\n",
    "\n",
    "if menu_item == \"Pumpkin Spice Latte\":\n",
    "    # Feature coming soon!\n",
    "    pass\n",
    "else:\n",
    "    print(f\"Preparing your {menu_item}.\")"
   ],
   "id": "d1fd0bffa6686fd0",
   "outputs": [],
   "execution_count": 13
  },
  {
   "metadata": {},
   "cell_type": "markdown",
   "source": [
    "#### `break`\n",
    "\n",
    "`break` exits the loop immediately."
   ],
   "id": "1e1e44e4b1c3528f"
  },
  {
   "metadata": {
    "ExecuteTime": {
     "end_time": "2025-07-30T21:08:34.210052Z",
     "start_time": "2025-07-30T21:08:34.207698Z"
    }
   },
   "cell_type": "code",
   "source": [
    "for i in range(5):\n",
    "    if i == 2:\n",
    "        break\n",
    "    print(i)"
   ],
   "id": "fcb7e951e90e00b3",
   "outputs": [
    {
     "name": "stdout",
     "output_type": "stream",
     "text": [
      "0\n",
      "1\n"
     ]
    }
   ],
   "execution_count": 12
  },
  {
   "metadata": {},
   "cell_type": "markdown",
   "source": "Imagine you’re searching for a specific item (like your keys) in a list of rooms. As soon as you find the keys, you want to stop searching.\n",
   "id": "da32b4cac512f7ad"
  },
  {
   "metadata": {
    "ExecuteTime": {
     "end_time": "2025-07-30T21:10:09.489247Z",
     "start_time": "2025-07-30T21:10:09.485199Z"
    }
   },
   "cell_type": "code",
   "source": [
    "rooms = [\"kitchen\", \"living room\", \"bedroom\", \"garage\"]\n",
    "for room in rooms:\n",
    "    print(f\"Searching in the {room}...\")\n",
    "    if room == \"bedroom\":\n",
    "        print(\"Found the keys!\")\n",
    "        break"
   ],
   "id": "142d04263572dd35",
   "outputs": [
    {
     "name": "stdout",
     "output_type": "stream",
     "text": [
      "Searching in the kitchen...\n",
      "Searching in the living room...\n",
      "Searching in the bedroom...\n",
      "Found the keys!\n"
     ]
    }
   ],
   "execution_count": 14
  },
  {
   "metadata": {},
   "cell_type": "markdown",
   "source": [
    "#### `continue`\n",
    "\n",
    "`continue` skips the rest of the current loop iteration and moves to the next one.\n"
   ],
   "id": "6c20c6312a347233"
  },
  {
   "metadata": {
    "ExecuteTime": {
     "end_time": "2025-07-30T21:10:38.221301Z",
     "start_time": "2025-07-30T21:10:38.218261Z"
    }
   },
   "cell_type": "code",
   "source": [
    "for i in range(5):\n",
    "    if i == 2:\n",
    "        continue\n",
    "    print(i)"
   ],
   "id": "457a95b94c0830e1",
   "outputs": [
    {
     "name": "stdout",
     "output_type": "stream",
     "text": [
      "0\n",
      "1\n",
      "3\n",
      "4\n"
     ]
    }
   ],
   "execution_count": 15
  },
  {
   "metadata": {},
   "cell_type": "markdown",
   "source": "Suppose you’re reading through a list of email subject lines. You want to print all of them except spam emails, which contain the word \"SPAM.\" You skip printing any email that’s spam.",
   "id": "6a8a49edf6fa3d7e"
  },
  {
   "metadata": {
    "ExecuteTime": {
     "end_time": "2025-07-30T21:11:22.905417Z",
     "start_time": "2025-07-30T21:11:22.901765Z"
    }
   },
   "cell_type": "code",
   "source": [
    "emails = [\"Meeting at 10am\", \"SPAM: Win a free iPhone\", \"Lunch plans?\", \"SPAM: Hot deals\"]\n",
    "for subject in emails:\n",
    "    if \"SPAM\" in subject:\n",
    "        continue  # Skip spam emails\n",
    "    print(f\"Important email: {subject}\")"
   ],
   "id": "590f2c0556961017",
   "outputs": [
    {
     "name": "stdout",
     "output_type": "stream",
     "text": [
      "Important email: Meeting at 10am\n",
      "Important email: Lunch plans?\n"
     ]
    }
   ],
   "execution_count": 16
  },
  {
   "metadata": {},
   "cell_type": "markdown",
   "source": "## 2. Loops",
   "id": "87e31dbfb4dfdcc7"
  },
  {
   "metadata": {},
   "cell_type": "markdown",
   "source": [
    "### 2.1 `for` Loops\n",
    "A `for` loop is used to repeat actions a certain number of times or to iterate over a sequence (like a list).\n"
   ],
   "id": "cca69e05faf4e9ea"
  },
  {
   "metadata": {
    "ExecuteTime": {
     "end_time": "2025-07-30T21:12:40.887230Z",
     "start_time": "2025-07-30T21:12:40.884900Z"
    }
   },
   "cell_type": "code",
   "source": [
    "# Print numbers from 0 to 4\n",
    "for i in range(5):\n",
    "    print(i)"
   ],
   "id": "b8f6a246aeeaf7c4",
   "outputs": [
    {
     "name": "stdout",
     "output_type": "stream",
     "text": [
      "0\n",
      "1\n",
      "2\n",
      "3\n",
      "4\n"
     ]
    }
   ],
   "execution_count": 17
  },
  {
   "metadata": {},
   "cell_type": "markdown",
   "source": "You can loop over the elements of a list like this:",
   "id": "3d738a4ff3627926"
  },
  {
   "metadata": {
    "ExecuteTime": {
     "end_time": "2025-07-30T21:38:54.655732Z",
     "start_time": "2025-07-30T21:38:54.652901Z"
    }
   },
   "cell_type": "code",
   "source": [
    "animals = ['cat', 'dog', 'monkey']\n",
    "for animal in animals:\n",
    "    print(animal)"
   ],
   "id": "23d728bba29066e9",
   "outputs": [
    {
     "name": "stdout",
     "output_type": "stream",
     "text": [
      "cat\n",
      "dog\n",
      "monkey\n"
     ]
    }
   ],
   "execution_count": 43
  },
  {
   "metadata": {},
   "cell_type": "markdown",
   "source": "If you want access to the index of each element within the body of a loop, use the built-in `enumerate()` function:",
   "id": "ee4f61325dc93eac"
  },
  {
   "metadata": {
    "ExecuteTime": {
     "end_time": "2025-07-30T21:39:10.688244Z",
     "start_time": "2025-07-30T21:39:10.685339Z"
    }
   },
   "cell_type": "code",
   "source": [
    "animals = ['cat', 'dog', 'monkey']\n",
    "for index, animal in enumerate(animals):\n",
    "    print('#{}: {}'.format(index + 1, animal))"
   ],
   "id": "9444ca2ce02dbfeb",
   "outputs": [
    {
     "name": "stdout",
     "output_type": "stream",
     "text": [
      "#1: cat\n",
      "#2: dog\n",
      "#3: monkey\n"
     ]
    }
   ],
   "execution_count": 44
  },
  {
   "metadata": {},
   "cell_type": "markdown",
   "source": [
    "### 2.2 `while` Loops\n",
    "\n",
    "A `while` loop repeats actions as long as a condition is true.\n"
   ],
   "id": "f91624bf2db23088"
  },
  {
   "metadata": {
    "ExecuteTime": {
     "end_time": "2025-07-30T21:13:01.407363Z",
     "start_time": "2025-07-30T21:13:01.404509Z"
    }
   },
   "cell_type": "code",
   "source": [
    "count = 0\n",
    "while count < 3:\n",
    "    print(count)\n",
    "    count += 1"
   ],
   "id": "e88bffe24f2f652b",
   "outputs": [
    {
     "name": "stdout",
     "output_type": "stream",
     "text": [
      "0\n",
      "1\n",
      "2\n"
     ]
    }
   ],
   "execution_count": 18
  },
  {
   "metadata": {},
   "cell_type": "markdown",
   "source": [
    "### 2.3 Nested Loops\n",
    "A nested loop is a loop inside another loop."
   ],
   "id": "ff26dcf30a2a2e27"
  },
  {
   "metadata": {
    "ExecuteTime": {
     "end_time": "2025-07-30T21:13:17.056449Z",
     "start_time": "2025-07-30T21:13:17.053423Z"
    }
   },
   "cell_type": "code",
   "source": [
    "for i in range(2):\n",
    "    for j in range(2):\n",
    "        print(f\"i={i}, j={j}\")"
   ],
   "id": "41a7915036d9ce03",
   "outputs": [
    {
     "name": "stdout",
     "output_type": "stream",
     "text": [
      "i=0, j=0\n",
      "i=0, j=1\n",
      "i=1, j=0\n",
      "i=1, j=1\n"
     ]
    }
   ],
   "execution_count": 19
  },
  {
   "metadata": {},
   "cell_type": "markdown",
   "source": [
    "###  2.4 Loops with `else`\n",
    "The `else` part after a loop runs only if the loop was not stopped by a break.\n",
    "\n"
   ],
   "id": "2f53acf6da5d8ef7"
  },
  {
   "metadata": {
    "ExecuteTime": {
     "end_time": "2025-07-30T21:14:49.509727Z",
     "start_time": "2025-07-30T21:14:49.506988Z"
    }
   },
   "cell_type": "code",
   "source": [
    "for i in range(3):\n",
    "    print(i)\n",
    "else:\n",
    "    print(\"Loop finished without break.\")"
   ],
   "id": "3cf405a9ea930625",
   "outputs": [
    {
     "name": "stdout",
     "output_type": "stream",
     "text": [
      "0\n",
      "1\n",
      "2\n",
      "Loop finished without break.\n"
     ]
    }
   ],
   "execution_count": 20
  },
  {
   "metadata": {},
   "cell_type": "markdown",
   "source": [
    "### 2.5 `enumerate`, `zip`\n",
    "\n",
    "#### `enumerate`\n",
    "`enumerate` gives you both the index and the value when looping over a list."
   ],
   "id": "5a18c1e4b2835384"
  },
  {
   "metadata": {
    "ExecuteTime": {
     "end_time": "2025-07-30T21:15:11.940014Z",
     "start_time": "2025-07-30T21:15:11.936756Z"
    }
   },
   "cell_type": "code",
   "source": [
    "names = [\"Alice\", \"Bob\", \"Charlie\"]\n",
    "for index, name in enumerate(names):\n",
    "    print(index, name)"
   ],
   "id": "13f490a23175a4f4",
   "outputs": [
    {
     "name": "stdout",
     "output_type": "stream",
     "text": [
      "0 Alice\n",
      "1 Bob\n",
      "2 Charlie\n"
     ]
    }
   ],
   "execution_count": 21
  },
  {
   "metadata": {},
   "cell_type": "markdown",
   "source": [
    "#### `zip`\n",
    "`zip` lets you loop over two (or more) lists at the same time."
   ],
   "id": "685cf640a3b9d23f"
  },
  {
   "metadata": {
    "ExecuteTime": {
     "end_time": "2025-07-30T21:17:23.711921Z",
     "start_time": "2025-07-30T21:17:23.708177Z"
    }
   },
   "cell_type": "code",
   "source": [
    "fruits = [\"apple\", \"banana\", \"cherry\"]\n",
    "colors = [\"red\", \"yellow\", \"red\"]\n",
    "for fruit, color in zip(fruits, colors):\n",
    "    print(fruit, color)"
   ],
   "id": "4a1dfbca0dab4e66",
   "outputs": [
    {
     "name": "stdout",
     "output_type": "stream",
     "text": [
      "apple red\n",
      "banana yellow\n",
      "cherry red\n"
     ]
    }
   ],
   "execution_count": 22
  },
  {
   "metadata": {},
   "cell_type": "markdown",
   "source": [
    "### 2.6 List Comprehensions\n",
    "A list comprehension is a short way to create a new list by looping over something.\n"
   ],
   "id": "dd79c4690de8cdf1"
  },
  {
   "metadata": {
    "ExecuteTime": {
     "end_time": "2025-07-30T21:33:21.787169Z",
     "start_time": "2025-07-30T21:33:21.777625Z"
    }
   },
   "cell_type": "code",
   "source": "[i for i in range(10)]",
   "id": "9b39ae6e07790fc7",
   "outputs": [
    {
     "data": {
      "text/plain": [
       "[0, 1, 2, 3, 4, 5, 6, 7, 8, 9]"
      ]
     },
     "execution_count": 35,
     "metadata": {},
     "output_type": "execute_result"
    }
   ],
   "execution_count": 35
  },
  {
   "metadata": {
    "ExecuteTime": {
     "end_time": "2025-07-30T21:33:35.127786Z",
     "start_time": "2025-07-30T21:33:35.123893Z"
    }
   },
   "cell_type": "code",
   "source": "[i**2 for i in range(10)]",
   "id": "66c7b8ffa1485a30",
   "outputs": [
    {
     "data": {
      "text/plain": [
       "[0, 1, 4, 9, 16, 25, 36, 49, 64, 81]"
      ]
     },
     "execution_count": 36,
     "metadata": {},
     "output_type": "execute_result"
    }
   ],
   "execution_count": 36
  },
  {
   "metadata": {},
   "cell_type": "markdown",
   "source": "We can even add some conditions.",
   "id": "269d4124a8a31401"
  },
  {
   "metadata": {
    "ExecuteTime": {
     "end_time": "2025-07-30T21:34:18.492949Z",
     "start_time": "2025-07-30T21:34:18.488531Z"
    }
   },
   "cell_type": "code",
   "source": "[i for i in range(10) if i > 5]",
   "id": "71dd645ceeea4254",
   "outputs": [
    {
     "data": {
      "text/plain": [
       "[6, 7, 8, 9]"
      ]
     },
     "execution_count": 37,
     "metadata": {},
     "output_type": "execute_result"
    }
   ],
   "execution_count": 37
  },
  {
   "metadata": {},
   "cell_type": "markdown",
   "source": "Multiples of 2.",
   "id": "78eca4a5ac374dc2"
  },
  {
   "metadata": {
    "ExecuteTime": {
     "end_time": "2025-07-30T21:34:33.343838Z",
     "start_time": "2025-07-30T21:34:33.339615Z"
    }
   },
   "cell_type": "code",
   "source": "[i for i in range(10) if i % 2 == 0]",
   "id": "a5926524a7bcfc6",
   "outputs": [
    {
     "data": {
      "text/plain": [
       "[0, 2, 4, 6, 8]"
      ]
     },
     "execution_count": 38,
     "metadata": {},
     "output_type": "execute_result"
    }
   ],
   "execution_count": 38
  },
  {
   "metadata": {},
   "cell_type": "markdown",
   "source": "Powers of 2.",
   "id": "1c631251eed5b8e1"
  },
  {
   "metadata": {
    "ExecuteTime": {
     "end_time": "2025-07-30T21:34:49.574044Z",
     "start_time": "2025-07-30T21:34:49.570928Z"
    }
   },
   "cell_type": "code",
   "source": "[i**2 for i in range(10)]",
   "id": "4861a20be2f33e75",
   "outputs": [
    {
     "data": {
      "text/plain": [
       "[0, 1, 4, 9, 16, 25, 36, 49, 64, 81]"
      ]
     },
     "execution_count": 40,
     "metadata": {},
     "output_type": "execute_result"
    }
   ],
   "execution_count": 40
  },
  {
   "metadata": {},
   "cell_type": "markdown",
   "source": "You can nest comprehensions.",
   "id": "e3adc71669e21718"
  },
  {
   "metadata": {
    "ExecuteTime": {
     "end_time": "2025-07-30T21:35:04.573267Z",
     "start_time": "2025-07-30T21:35:04.568589Z"
    }
   },
   "cell_type": "code",
   "source": "[[[i, j] for i in range(5)] for j in range(5)]",
   "id": "be00659b52f4cd79",
   "outputs": [
    {
     "data": {
      "text/plain": [
       "[[[0, 0], [1, 0], [2, 0], [3, 0], [4, 0]],\n",
       " [[0, 1], [1, 1], [2, 1], [3, 1], [4, 1]],\n",
       " [[0, 2], [1, 2], [2, 2], [3, 2], [4, 2]],\n",
       " [[0, 3], [1, 3], [2, 3], [3, 3], [4, 3]],\n",
       " [[0, 4], [1, 4], [2, 4], [3, 4], [4, 4]]]"
      ]
     },
     "execution_count": 41,
     "metadata": {},
     "output_type": "execute_result"
    }
   ],
   "execution_count": 41
  },
  {
   "metadata": {},
   "cell_type": "markdown",
   "source": "You can concatenate multiple comprehensions.",
   "id": "cba5c9379fbab379"
  },
  {
   "metadata": {
    "ExecuteTime": {
     "end_time": "2025-07-30T21:35:17.273795Z",
     "start_time": "2025-07-30T21:35:17.270750Z"
    }
   },
   "cell_type": "code",
   "source": "[[i, j] for i in range(5) for j in range(5) if i < j]",
   "id": "2131cf522fc5fa41",
   "outputs": [
    {
     "data": {
      "text/plain": [
       "[[0, 1],\n",
       " [0, 2],\n",
       " [0, 3],\n",
       " [0, 4],\n",
       " [1, 2],\n",
       " [1, 3],\n",
       " [1, 4],\n",
       " [2, 3],\n",
       " [2, 4],\n",
       " [3, 4]]"
      ]
     },
     "execution_count": 42,
     "metadata": {},
     "output_type": "execute_result"
    }
   ],
   "execution_count": 42
  },
  {
   "metadata": {},
   "cell_type": "markdown",
   "source": "## 3. Classes (OOP)",
   "id": "9620826530cf57ac"
  },
  {
   "metadata": {},
   "cell_type": "markdown",
   "source": [
    "### 3.1 What is a Class? Why OOP?\n",
    "\n",
    "In Python, a **class** is a code construct used to define a new type of object, grouping together data and functions that operate on that data.\n",
    "Classes provide a means of bundling data and functionality together. Creating a new class creates a new type of object, allowing new instances of that type to be made.\n",
    "\n",
    "**Object-Oriented Programming (OOP)** is a programming paradigm based on the concept of \"objects,\" which can contain both data (attributes) and code (methods).\n",
    "\n",
    "When you create an object using a class, that object is called an **instance** of the class.\n",
    "\n",
    "\n",
    "#### Example from the Python Standard Tutorial\n",
    "\n",
    "> “Classes provide a means of bundling data and functionality together. Creating a new class creates a new type of object, allowing new instances of that type to be made. Each class instance can have attributes attached to it for maintaining its state. Class instances can also have methods (defined by its class) for modifying its state.”\n",
    "> *(Python Official Tutorial)*\n",
    "\n",
    "#### Simple Example\n",
    "\n",
    "Here is a simple class that models a basic point in two-dimensional space:"
   ],
   "id": "99e8ebd29860cc84"
  },
  {
   "metadata": {
    "ExecuteTime": {
     "end_time": "2025-07-31T00:17:01.963663Z",
     "start_time": "2025-07-31T00:17:01.960432Z"
    }
   },
   "cell_type": "code",
   "source": [
    "class Point:\n",
    "    \"\"\"A class to represent a point in 2D space.\"\"\"\n",
    "    def __init__(self, x, y):\n",
    "        self.x = x\n",
    "        self.y = y\n",
    "\n",
    "p = Point(2, 3)\n",
    "print(p.x)  # Output: 2\n",
    "print(p.y)  # Output: 3"
   ],
   "id": "e1340f932aca9be3",
   "outputs": [
    {
     "name": "stdout",
     "output_type": "stream",
     "text": [
      "2\n",
      "3\n"
     ]
    }
   ],
   "execution_count": 11
  },
  {
   "metadata": {},
   "cell_type": "markdown",
   "source": [
    "In this example:\n",
    "\n",
    "- Point is a class.\n",
    "\n",
    "- p is an instance of Point, with specific x and y coordinates.\n",
    "\n",
    "- The __init__ method is called the constructor and initializes the instance attributes."
   ],
   "id": "c2cedd5a3a070ddf"
  },
  {
   "metadata": {},
   "cell_type": "markdown",
   "source": [
    "### 3.2 Defining a Class\n",
    "In Python, a class is defined using the `class` keyword, followed by the class name and a colon.\n",
    "The body of the class contains statements that define its attributes and methods.\n",
    "\n",
    "Here is the simplest possible class definition:"
   ],
   "id": "b0f76ce782538db4"
  },
  {
   "metadata": {
    "ExecuteTime": {
     "end_time": "2025-07-30T21:20:41.208106Z",
     "start_time": "2025-07-30T21:20:41.205591Z"
    }
   },
   "cell_type": "code",
   "source": [
    "class Dog:\n",
    "    pass  # 'pass' is a placeholder indicating an empty block"
   ],
   "id": "696553a48568562c",
   "outputs": [],
   "execution_count": 24
  },
  {
   "metadata": {},
   "cell_type": "markdown",
   "source": [
    "This statement defines a new class named `Dog`.\n",
    "At this stage, the class has no attributes (data) or methods (actions). It serves as a minimal template from which instances can be created.\n",
    "\n",
    "**Note:**\n",
    "By convention, class names in Python use the CapitalizedWords naming style (also known as CamelCase).\n",
    "\n",
    "#### Explanation\n",
    "\n",
    "- `class Dog:` declares a class named `Dog`.\n",
    "- The `pass` statement is syntactically required because Python expects an indented block after the colon; here, it indicates that the class has no content yet.\n",
    "- This class can later be extended with attributes (e.g., `name`, `age`) and methods (e.g., `bark()`).\n"
   ],
   "id": "4f163a74e1da2f01"
  },
  {
   "metadata": {},
   "cell_type": "markdown",
   "source": "### 3.3 Constructor Method `__init__`",
   "id": "79bca33ae15097e0"
  },
  {
   "metadata": {},
   "cell_type": "markdown",
   "source": [
    "The constructor method `__init__` is a special method in Python classes.\n",
    "It is called automatically when a new instance of the class is created.\n",
    "This method is commonly used to initialize (set up) the attributes of the new object.\n",
    "\n",
    "- The first parameter of `__init__` is always `self`, which refers to the instance being created.\n",
    "- Additional parameters allow you to pass in initial values for the object's attributes.\n"
   ],
   "id": "8de7c86cd825d012"
  },
  {
   "metadata": {
    "ExecuteTime": {
     "end_time": "2025-07-30T21:21:51.826450Z",
     "start_time": "2025-07-30T21:21:51.823809Z"
    }
   },
   "cell_type": "code",
   "source": [
    "class Dog:\n",
    "    def __init__(self, name, age):\n",
    "        self.name = name  # Each dog has a name\n",
    "        self.age = age    # Each dog has an age"
   ],
   "id": "af886daa7fd17e6d",
   "outputs": [],
   "execution_count": 26
  },
  {
   "metadata": {},
   "cell_type": "markdown",
   "source": "In this example, every time a new `Dog` object is created, you must provide a `name` and an `age`, which are stored as attributes of the instance.",
   "id": "c66ebb33341b80fc"
  },
  {
   "metadata": {},
   "cell_type": "markdown",
   "source": "### 3.4 Creating Objects",
   "id": "2f122233d52e5e17"
  },
  {
   "metadata": {},
   "cell_type": "markdown",
   "source": "To create (or **instantiate**) an object from a class, call the class as if it were a function, passing any required arguments to the constructor (`__init__` method).\n",
   "id": "14ec10abfc573b5c"
  },
  {
   "metadata": {
    "ExecuteTime": {
     "end_time": "2025-07-30T21:22:13.975326Z",
     "start_time": "2025-07-30T21:22:13.972102Z"
    }
   },
   "cell_type": "code",
   "source": [
    "my_dog = Dog(\"Buddy\", 3)\n",
    "print(my_dog.name)  # Output: Buddy\n",
    "print(my_dog.age)   # Output: 3"
   ],
   "id": "cf8e5504f9f51c35",
   "outputs": [
    {
     "name": "stdout",
     "output_type": "stream",
     "text": [
      "Buddy\n",
      "3\n"
     ]
    }
   ],
   "execution_count": 27
  },
  {
   "metadata": {},
   "cell_type": "markdown",
   "source": [
    "Here,\n",
    "\n",
    "- `my_dog` is an instance of the `Dog` class, initialized with the name `\"Buddy\"` and age `3`.\n",
    "- The attributes `name` and `age` are accessed using dot notation (for example, `my_dog.name`).\n",
    "\n",
    "**Summary:**\n",
    "Instantiating a class creates a new object with its own unique set of data, as specified by the constructor.\n"
   ],
   "id": "44e7265c495a1f81"
  },
  {
   "metadata": {},
   "cell_type": "markdown",
   "source": "### 3.5 Instance Methods",
   "id": "adfff8a6f8e8d824"
  },
  {
   "metadata": {},
   "cell_type": "markdown",
   "source": [
    "**Instance methods** are functions defined inside a class that operate on individual instances of that class.\n",
    "They can access and modify the data (attributes) that belong to the specific object.\n",
    "\n",
    "- Every instance method has `self` as its first parameter.\n",
    "  `self` refers to the instance through which the method is called, allowing access to the object’s attributes.\n",
    "\n",
    "**Example:**"
   ],
   "id": "cb41819733ac844b"
  },
  {
   "metadata": {
    "ExecuteTime": {
     "end_time": "2025-07-30T21:22:39.747187Z",
     "start_time": "2025-07-30T21:22:39.744005Z"
    }
   },
   "cell_type": "code",
   "source": [
    "class Dog:\n",
    "    def __init__(self, name):\n",
    "        self.name = name\n",
    "\n",
    "    def bark(self):\n",
    "        print(f\"{self.name} says woof!\")\n",
    "\n",
    "my_dog = Dog(\"Buddy\")\n",
    "my_dog.bark()  # Output: Buddy says woof!"
   ],
   "id": "d2e01f99be78c2b9",
   "outputs": [
    {
     "name": "stdout",
     "output_type": "stream",
     "text": [
      "Buddy says woof!\n"
     ]
    }
   ],
   "execution_count": 28
  },
  {
   "metadata": {},
   "cell_type": "markdown",
   "source": [
    "In this example:\n",
    "\n",
    "- `bark` is an instance method.\n",
    "- It uses `self.name` to access data specific to that instance.\n",
    "- When you call `my_dog.bark()`, the method prints `\"Buddy says woof!\"`.\n",
    "\n",
    "**Summary:**\n",
    "Instance methods enable each object created from a class to perform behaviors that may depend on its own data.\n"
   ],
   "id": "bb39d635ebf53bb4"
  },
  {
   "metadata": {},
   "cell_type": "markdown",
   "source": [
    "### 3.6 Class Attributes vs. Instance Attributes\n",
    "\n",
    "Class attributes are shared by all objects of the class.\n",
    "Instance attributes belong only to one specific object."
   ],
   "id": "489f753124ac3ed6"
  },
  {
   "metadata": {
    "ExecuteTime": {
     "end_time": "2025-07-30T21:23:05.891598Z",
     "start_time": "2025-07-30T21:23:05.888082Z"
    }
   },
   "cell_type": "code",
   "source": [
    "class Dog:\n",
    "    species = \"Canine\"  # Class attribute\n",
    "\n",
    "    def __init__(self, name):\n",
    "        self.name = name  # Instance attribute\n",
    "\n",
    "dog1 = Dog(\"Buddy\")\n",
    "dog2 = Dog(\"Bella\")\n",
    "\n",
    "print(dog1.species)  # Output: Canine\n",
    "print(dog2.species)  # Output: Canine\n",
    "\n",
    "print(dog1.name)     # Output: Buddy\n",
    "print(dog2.name)     # Output: Bella\n"
   ],
   "id": "2eb0f554171ddfd8",
   "outputs": [
    {
     "name": "stdout",
     "output_type": "stream",
     "text": [
      "Canine\n",
      "Canine\n",
      "Buddy\n",
      "Bella\n"
     ]
    }
   ],
   "execution_count": 29
  },
  {
   "metadata": {},
   "cell_type": "markdown",
   "source": [
    "- `species` is a **class attribute**. It is shared by all instances of the class `Dog`.\n",
    "- `name` is an **instance attribute**. Each object has its own separate value for `name`.\n",
    "\n",
    "When you access `dog1.species` or `dog2.species`, both will return `\"Canine\"`, because `species` is shared.\n",
    "\n",
    "When you access `dog1.name` and `dog2.name`, they return `\"Buddy\"` and `\"Bella\"` respectively, because `name` is specific to each object.\n"
   ],
   "id": "dea8624c805cae25"
  },
  {
   "metadata": {},
   "cell_type": "markdown",
   "source": [
    "### 3.7 Inheritance\n",
    "**Inheritance** is a fundamental feature of object-oriented programming.\n",
    "It allows you to define a new class (called a **subclass** or **derived class**) based on an existing class (called a **superclass** or **base class**).\n",
    "The subclass inherits all the attributes and methods of the superclass, and can also introduce its own or override existing ones.\n",
    "\n",
    "This enables code reuse and logical hierarchy between classes.\n",
    "\n",
    "**Example:**\n",
    "\n"
   ],
   "id": "5445c6ed23192e1c"
  },
  {
   "metadata": {
    "ExecuteTime": {
     "end_time": "2025-07-30T21:23:41.310320Z",
     "start_time": "2025-07-30T21:23:41.307213Z"
    }
   },
   "cell_type": "code",
   "source": [
    "class Animal:\n",
    "    def speak(self):\n",
    "        print(\"This animal makes a sound.\")\n",
    "\n",
    "class Dog(Animal):\n",
    "    def bark(self):\n",
    "        print(\"Woof!\")\n",
    "\n",
    "my_dog = Dog()\n",
    "my_dog.speak()  # Output: This animal makes a sound.\n",
    "my_dog.bark()   # Output: Woof!\n"
   ],
   "id": "e77a2ccb6f3c31a7",
   "outputs": [
    {
     "name": "stdout",
     "output_type": "stream",
     "text": [
      "This animal makes a sound.\n",
      "Woof!\n"
     ]
    }
   ],
   "execution_count": 30
  },
  {
   "metadata": {},
   "cell_type": "markdown",
   "source": [
    "**Explanation:**\n",
    "\n",
    "- `Animal` is the **superclass**.\n",
    "- `Dog` is the **subclass**, which inherits from `Animal`.\n",
    "- `Dog` automatically has the `speak` method from `Animal`, and also defines its own `bark` method.\n",
    "- When you create an instance of `Dog`, you can call both `speak` (inherited) and `bark` (defined in `Dog`).\n",
    "\n",
    "**Summary:**\n",
    "Inheritance lets you build classes that share common behaviors, reducing code duplication and making code easier to maintain.\n"
   ],
   "id": "a42018dac746a372"
  },
  {
   "metadata": {},
   "cell_type": "markdown",
   "source": [
    "### 3.8 Method Overriding\n",
    "\n",
    "**Method overriding** allows a subclass to provide a specific implementation of a method that is already defined in its superclass.\n",
    "This enables a subclass to change or extend the behavior of inherited methods.\n",
    "\n",
    "**Example:**\n",
    "\n"
   ],
   "id": "7084dd13ee097b2d"
  },
  {
   "metadata": {
    "ExecuteTime": {
     "end_time": "2025-07-30T21:24:05.042638Z",
     "start_time": "2025-07-30T21:24:05.039314Z"
    }
   },
   "cell_type": "code",
   "source": [
    "class Animal:\n",
    "    def speak(self):\n",
    "        print(\"Animal sound\")\n",
    "\n",
    "class Dog(Animal):\n",
    "    def speak(self):\n",
    "        print(\"Bark!\")  # Overrides the speak method\n",
    "\n",
    "my_dog = Dog()\n",
    "my_dog.speak()  # Output: Bark!"
   ],
   "id": "69b64dd14c61dd9d",
   "outputs": [
    {
     "name": "stdout",
     "output_type": "stream",
     "text": [
      "Bark!\n"
     ]
    }
   ],
   "execution_count": 31
  },
  {
   "metadata": {},
   "cell_type": "markdown",
   "source": [
    "**Explanation:**\n",
    "\n",
    "- The `Animal` class defines a method called `speak`.\n",
    "- The `Dog` subclass defines its own `speak` method, which **overrides** the one inherited from `Animal`.\n",
    "- When `speak()` is called on a `Dog` instance, the version in `Dog` is executed instead of the version in `Animal`.\n",
    "\n",
    "**Summary:**\n",
    "Method overriding allows subclasses to modify or completely replace behaviors inherited from a parent class.\n"
   ],
   "id": "a734a4034386b7c9"
  },
  {
   "metadata": {},
   "cell_type": "markdown",
   "source": [
    "### 3.9 Magic Methods (Dunder Methods)\n",
    "\n",
    "**Magic methods** (also known as **dunder methods**, because they start and end with double underscores) are special methods in Python that allow you to define how your objects interact with Python’s built-in functions and operators.\n",
    "\n",
    "Some commonly used magic methods include:\n",
    "\n",
    "- `__init__` — called when a new object is created (the constructor)\n",
    "- `__str__` — defines what should be returned when the object is printed with `print()`\n",
    "\n",
    "**Example:**"
   ],
   "id": "98c6e031b7df8b1b"
  },
  {
   "metadata": {
    "ExecuteTime": {
     "end_time": "2025-07-30T21:24:40.147409Z",
     "start_time": "2025-07-30T21:24:40.144009Z"
    }
   },
   "cell_type": "code",
   "source": [
    "class Dog:\n",
    "    def __init__(self, name):\n",
    "        self.name = name\n",
    "\n",
    "    def __str__(self):\n",
    "        return f\"This dog's name is {self.name}.\"\n",
    "\n",
    "my_dog = Dog(\"Buddy\")\n",
    "print(my_dog)  # Output: This dog's name is Buddy."
   ],
   "id": "7cc9ca43813ac59b",
   "outputs": [
    {
     "name": "stdout",
     "output_type": "stream",
     "text": [
      "This dog's name is Buddy.\n"
     ]
    }
   ],
   "execution_count": 32
  },
  {
   "metadata": {},
   "cell_type": "markdown",
   "source": [
    "**Explanation:**\n",
    "\n",
    "- The `__init__` method initializes the `name` attribute when a new `Dog` object is created.\n",
    "- The `__str__` method returns a string representation of the object, which is used when you call `print()` on the object.\n",
    "\n",
    "**Summary:**\n",
    "Magic methods let you customize how your objects behave with standard Python operations, such as printing, addition, comparison, and more."
   ],
   "id": "664e7e384189f675"
  },
  {
   "metadata": {},
   "cell_type": "markdown",
   "source": [
    "### 3.10 Class Methods and Static Methods\n",
    "- Class methods affect the class itself, not just one object.\n",
    "\n",
    "- Static methods are like normal functions, but live inside the class."
   ],
   "id": "a474eae7b73b4263"
  },
  {
   "metadata": {
    "ExecuteTime": {
     "end_time": "2025-07-30T21:25:07.995373Z",
     "start_time": "2025-07-30T21:25:07.991928Z"
    }
   },
   "cell_type": "code",
   "source": [
    "class Dog:\n",
    "    dogs_count = 0  # Class attribute\n",
    "\n",
    "    def __init__(self, name):\n",
    "        self.name = name\n",
    "        Dog.dogs_count += 1\n",
    "\n",
    "    @classmethod\n",
    "    def get_dogs_count(cls):\n",
    "        return cls.dogs_count\n",
    "\n",
    "    @staticmethod\n",
    "    def bark():\n",
    "        print(\"Woof!\")\n",
    "\n",
    "dog1 = Dog(\"Buddy\")\n",
    "dog2 = Dog(\"Bella\")\n",
    "print(Dog.get_dogs_count())  # Output: 2\n",
    "Dog.bark()  # Output: Woof!"
   ],
   "id": "68e58ccfe5809c60",
   "outputs": [
    {
     "name": "stdout",
     "output_type": "stream",
     "text": [
      "2\n",
      "Woof!\n"
     ]
    }
   ],
   "execution_count": 33
  },
  {
   "metadata": {},
   "cell_type": "markdown",
   "source": [
    "**Explanation:**\n",
    "\n",
    "- `dogs_count` is a class attribute, shared by all instances of the `Dog` class.\n",
    "- The `@classmethod` decorator is used to define a class method. Class methods receive the class itself as the first argument, conventionally named `cls`.\n",
    "  - `get_dogs_count` returns the current count of all `Dog` instances.\n",
    "- The `@staticmethod` decorator is used to define a static method. Static methods do not receive an implicit first argument (neither the class nor the instance).\n",
    "  - `bark` can be called on the class itself, and behaves like a regular function, but lives inside the class's namespace.\n",
    "\n",
    "**Summary:**\n",
    "- Class methods can modify or access class-level data that is shared across all instances.\n",
    "- Static methods are utility functions that have a logical connection to the class, but do not access or modify class or instance data."
   ],
   "id": "ee3489d82128dee6"
  },
  {
   "metadata": {},
   "cell_type": "markdown",
   "source": [
    "### 3.11 Simple AI Assistant Class\n",
    "\n",
    "This example builds a basic AI Assistant class.\n",
    "The assistant can answer questions, remember a history of questions, and keep track of how many questions it has been asked.\n",
    "\n"
   ],
   "id": "6a0108e61aeb64f3"
  },
  {
   "metadata": {
    "ExecuteTime": {
     "end_time": "2025-07-30T21:26:31.762902Z",
     "start_time": "2025-07-30T21:26:31.757553Z"
    }
   },
   "cell_type": "code",
   "source": [
    "class AIAssistant:\n",
    "    total_questions = 0  # Class attribute to count total questions asked to all assistants\n",
    "\n",
    "    def __init__(self, name):\n",
    "        self.name = name\n",
    "        self.question_history = []  # Instance attribute to store asked questions\n",
    "\n",
    "    def answer(self, question):\n",
    "        \"\"\"Answer a question and save it to history.\"\"\"\n",
    "        AIAssistant.total_questions += 1\n",
    "        self.question_history.append(question)\n",
    "        print(f\"{self.name}: You asked, '{question}'\")\n",
    "        # Very basic response logic:\n",
    "        if \"weather\" in question.lower():\n",
    "            print(\"I'm not connected to the internet, but I hope it's sunny!\")\n",
    "        elif \"name\" in question.lower():\n",
    "            print(f\"My name is {self.name}.\")\n",
    "        else:\n",
    "            print(\"That's an interesting question!\")\n",
    "\n",
    "    def show_history(self):\n",
    "        \"\"\"Show all questions this assistant has been asked.\"\"\"\n",
    "        print(f\"Questions asked to {self.name}:\")\n",
    "        for q in self.question_history:\n",
    "            print(f\"- {q}\")\n",
    "\n",
    "    @classmethod\n",
    "    def show_total_questions(cls):\n",
    "        \"\"\"Show how many questions have been asked to all AI assistants.\"\"\"\n",
    "        print(f\"Total questions asked to all assistants: {cls.total_questions}\")\n",
    "\n",
    "# Example usage:\n",
    "ai1 = AIAssistant(\"Alexa\")\n",
    "ai2 = AIAssistant(\"Siri\")\n",
    "\n",
    "ai1.answer(\"What's the weather today?\")\n",
    "ai1.answer(\"What's your name?\")\n",
    "ai2.answer(\"Can you help me with my homework?\")\n",
    "\n",
    "ai1.show_history()\n",
    "ai2.show_history()\n",
    "AIAssistant.show_total_questions()"
   ],
   "id": "dd405a6cacebcc2",
   "outputs": [
    {
     "name": "stdout",
     "output_type": "stream",
     "text": [
      "Alexa: You asked, 'What's the weather today?'\n",
      "I'm not connected to the internet, but I hope it's sunny!\n",
      "Alexa: You asked, 'What's your name?'\n",
      "My name is Alexa.\n",
      "Siri: You asked, 'Can you help me with my homework?'\n",
      "That's an interesting question!\n",
      "Questions asked to Alexa:\n",
      "- What's the weather today?\n",
      "- What's your name?\n",
      "Questions asked to Siri:\n",
      "- Can you help me with my homework?\n",
      "Total questions asked to all assistants: 3\n"
     ]
    }
   ],
   "execution_count": 34
  },
  {
   "metadata": {},
   "cell_type": "markdown",
   "source": [
    "## 4. Exceptions\n",
    "\n",
    "### What Is an Exception?\n",
    "\n",
    "An **exception** is a special object that signals an error or an unexpected situation in your program.\n",
    "For example, dividing by zero or trying to open a file that does not exist will cause an exception.\n",
    "\n",
    "Python uses a `try/except` block to **handle** exceptions, so your program doesn't crash when something goes wrong.\n",
    "\n",
    "\n",
    "### Basic Structure\n",
    "\n",
    "Here is the basic structure of handling exceptions in Python:\n",
    "\n",
    "```python\n",
    "try:\n",
    "    # Code that might cause an exception\n",
    "    pass\n",
    "except SomeException:\n",
    "    # Code that runs if that specific exception happens\n",
    "    pass"
   ],
   "id": "eaeaa9f22ac58d92"
  },
  {
   "metadata": {},
   "cell_type": "markdown",
   "source": [
    "### Full Example\n",
    "Let's see how it works in practice:\n"
   ],
   "id": "3381babcfcdc9440"
  },
  {
   "metadata": {
    "ExecuteTime": {
     "end_time": "2025-07-31T00:12:12.548173Z",
     "start_time": "2025-07-31T00:12:12.545420Z"
    }
   },
   "cell_type": "code",
   "source": [
    "try:\n",
    "    # Try to do something risky\n",
    "    number = 1 / 1  # Change this to 1 / 0 to see an exception\n",
    "except ZeroDivisionError as e:\n",
    "    print(\"Caught a ZeroDivisionError!\")\n",
    "    print(e)\n",
    "except Exception as e:\n",
    "    print(\"Caught a general exception.\")\n",
    "    print(e)\n",
    "else:\n",
    "    print(\"There were no exceptions.\")\n",
    "finally:\n",
    "    print(\"This is always executed (cleanup, closing files, etc.).\")"
   ],
   "id": "53c25bd1596acb76",
   "outputs": [
    {
     "name": "stdout",
     "output_type": "stream",
     "text": [
      "There were no exceptions.\n",
      "This is always executed (cleanup, closing files, etc.).\n"
     ]
    }
   ],
   "execution_count": 9
  },
  {
   "metadata": {},
   "cell_type": "markdown",
   "source": [
    "### Common Exceptions\n",
    "Here are some common Python exceptions you might see:\n",
    "\n",
    "- ZeroDivisionError – trying to divide by zero\n",
    "\n",
    "- ValueError – wrong value type (e.g., int(\"abc\"))\n",
    "\n",
    "- TypeError – wrong type used (e.g., adding a string to a number)\n",
    "\n",
    "- FileNotFoundError – file doesn’t exist\n",
    "\n",
    "- IndexError – list index out of range\n",
    "\n"
   ],
   "id": "e3a35a620f9f2a8d"
  },
  {
   "metadata": {},
   "cell_type": "markdown",
   "source": [
    "### Why Handle Exceptions?\n",
    "If you don’t handle exceptions, your program will crash as soon as it encounters an error.\n",
    "Handling exceptions lets your program keep running or fail gracefully.\n",
    "\n",
    "Real-life analogy:\n",
    "Exception handling is like wearing a seatbelt. If something unexpected happens, you stay safe instead of getting hurt!\n",
    "\n"
   ],
   "id": "f282e989b04269ed"
  },
  {
   "metadata": {},
   "cell_type": "markdown",
   "source": [
    "### Practice Exercise\n",
    "Try dividing by zero and catch the exception:\n"
   ],
   "id": "5f480e86fb56c8d7"
  },
  {
   "metadata": {
    "ExecuteTime": {
     "end_time": "2025-07-31T00:13:32.087618Z",
     "start_time": "2025-07-31T00:13:32.085402Z"
    }
   },
   "cell_type": "code",
   "source": [
    "try:\n",
    "    result = 10 / 0\n",
    "except ZeroDivisionError:\n",
    "    print(\"Oops! You can't divide by zero.\")"
   ],
   "id": "779e9331255ffab8",
   "outputs": [
    {
     "name": "stdout",
     "output_type": "stream",
     "text": [
      "Oops! You can't divide by zero.\n"
     ]
    }
   ],
   "execution_count": 10
  },
  {
   "metadata": {},
   "cell_type": "markdown",
   "source": [
    "## 5. Generators (Iterators)\n",
    "\n",
    "### What Is an Iterator?\n",
    "An **iterator** is an object that lets you access items in a collection, one at a time.\n",
    "You can get the next item from an iterator using the `next()` function.\n",
    "\n",
    "- **Lists, tuples, dictionaries, and strings** are all *iterable*, meaning you can loop through them using a `for` loop.\n",
    "\n",
    "\n",
    "The **`yield`** statement allows you to create your own iterator, called a generator.\n",
    "Generators are a memory-efficient way to produce values one at a time, only when you need them."
   ],
   "id": "60db0a8ef399c0c"
  },
  {
   "metadata": {
    "ExecuteTime": {
     "end_time": "2025-07-30T23:53:13.105705Z",
     "start_time": "2025-07-30T23:53:13.103582Z"
    }
   },
   "cell_type": "code",
   "source": [
    "def range_custom(n):\n",
    "    i = 0\n",
    "    while i < n:\n",
    "        yield i\n",
    "        i += 1"
   ],
   "id": "6e217502c7127e8f",
   "outputs": [],
   "execution_count": 2
  },
  {
   "metadata": {},
   "cell_type": "markdown",
   "source": "Create the generator.",
   "id": "bda1749e982d79bd"
  },
  {
   "metadata": {
    "ExecuteTime": {
     "end_time": "2025-07-30T23:53:25.804161Z",
     "start_time": "2025-07-30T23:53:25.801857Z"
    }
   },
   "cell_type": "code",
   "source": "gen = range_custom(3)",
   "id": "aeef3d732bab3cdb",
   "outputs": [],
   "execution_count": 3
  },
  {
   "metadata": {},
   "cell_type": "markdown",
   "source": "The type of the variable named `gen` is `generator.`",
   "id": "431c439c84d22d9e"
  },
  {
   "metadata": {
    "ExecuteTime": {
     "end_time": "2025-07-30T23:53:47.616799Z",
     "start_time": "2025-07-30T23:53:47.612186Z"
    }
   },
   "cell_type": "code",
   "source": "type(gen)",
   "id": "c0a3b91b83b7a0d2",
   "outputs": [
    {
     "data": {
      "text/plain": [
       "generator"
      ]
     },
     "execution_count": 4,
     "metadata": {},
     "output_type": "execute_result"
    }
   ],
   "execution_count": 4
  },
  {
   "metadata": {},
   "cell_type": "markdown",
   "source": "Iterate through the generator values.",
   "id": "dcbcc4d000628413"
  },
  {
   "metadata": {
    "ExecuteTime": {
     "end_time": "2025-07-30T23:54:02.468704Z",
     "start_time": "2025-07-30T23:54:02.465220Z"
    }
   },
   "cell_type": "code",
   "source": "next(gen)",
   "id": "5d410f0159c4b51b",
   "outputs": [
    {
     "data": {
      "text/plain": [
       "0"
      ]
     },
     "execution_count": 5,
     "metadata": {},
     "output_type": "execute_result"
    }
   ],
   "execution_count": 5
  },
  {
   "metadata": {
    "ExecuteTime": {
     "end_time": "2025-07-30T23:54:07.107411Z",
     "start_time": "2025-07-30T23:54:07.104401Z"
    }
   },
   "cell_type": "code",
   "source": "next(gen)",
   "id": "cda2412f4d2d9943",
   "outputs": [
    {
     "data": {
      "text/plain": [
       "1"
      ]
     },
     "execution_count": 6,
     "metadata": {},
     "output_type": "execute_result"
    }
   ],
   "execution_count": 6
  },
  {
   "metadata": {
    "ExecuteTime": {
     "end_time": "2025-07-30T23:54:13.039402Z",
     "start_time": "2025-07-30T23:54:13.036290Z"
    }
   },
   "cell_type": "code",
   "source": "next(gen)",
   "id": "9d285e7d22c35bb6",
   "outputs": [
    {
     "data": {
      "text/plain": [
       "2"
      ]
     },
     "execution_count": 7,
     "metadata": {},
     "output_type": "execute_result"
    }
   ],
   "execution_count": 7
  },
  {
   "metadata": {},
   "cell_type": "markdown",
   "source": [
    "The generator raises an exception when it reaches the end.\n",
    "If you keep calling `next()` after the generator is finished, you will get a `StopIteration` error.\n"
   ],
   "id": "96914d418e5e361d"
  },
  {
   "metadata": {
    "ExecuteTime": {
     "end_time": "2025-07-30T23:54:32.380102Z",
     "start_time": "2025-07-30T23:54:32.272095Z"
    }
   },
   "cell_type": "code",
   "source": [
    "# the following call will raise an exception\n",
    "# next(gen)"
   ],
   "id": "a7c1c8fbd161e235",
   "outputs": [
    {
     "ename": "StopIteration",
     "evalue": "",
     "output_type": "error",
     "traceback": [
      "\u001B[0;31m---------------------------------------------------------------------------\u001B[0m",
      "\u001B[0;31mStopIteration\u001B[0m                             Traceback (most recent call last)",
      "Cell \u001B[0;32mIn[8], line 2\u001B[0m\n\u001B[1;32m      1\u001B[0m \u001B[38;5;66;03m# the following call will raise an exception\u001B[39;00m\n\u001B[0;32m----> 2\u001B[0m \u001B[38;5;28;43mnext\u001B[39;49m\u001B[43m(\u001B[49m\u001B[43mgen\u001B[49m\u001B[43m)\u001B[49m\n",
      "\u001B[0;31mStopIteration\u001B[0m: "
     ]
    }
   ],
   "execution_count": 8
  }
 ],
 "metadata": {
  "kernelspec": {
   "display_name": "Python 3",
   "language": "python",
   "name": "python3"
  },
  "language_info": {
   "codemirror_mode": {
    "name": "ipython",
    "version": 2
   },
   "file_extension": ".py",
   "mimetype": "text/x-python",
   "name": "python",
   "nbconvert_exporter": "python",
   "pygments_lexer": "ipython2",
   "version": "2.7.6"
  }
 },
 "nbformat": 4,
 "nbformat_minor": 5
}
